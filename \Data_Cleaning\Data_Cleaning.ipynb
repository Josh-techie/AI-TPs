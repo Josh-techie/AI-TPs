{
  "nbformat": 4,
  "nbformat_minor": 0,
  "metadata": {
    "colab": {
      "provenance": [],
      "authorship_tag": "ABX9TyN7rs1T8oW5lWwuDUc0rMby",
      "include_colab_link": true
    },
    "kernelspec": {
      "name": "python3",
      "display_name": "Python 3"
    },
    "language_info": {
      "name": "python"
    }
  },
  "cells": [
    {
      "cell_type": "markdown",
      "metadata": {
        "id": "view-in-github",
        "colab_type": "text"
      },
      "source": [
        "<a href=\"https://colab.research.google.com/github/Josh-techie/AI-TPs/blob/master/%5CData_Cleaning%5CData_Cleaning.ipynb\" target=\"_parent\"><img src=\"https://colab.research.google.com/assets/colab-badge.svg\" alt=\"Open In Colab\"/></a>"
      ]
    },
    {
      "cell_type": "markdown",
      "source": [
        "**Import the necessary liibraries**"
      ],
      "metadata": {
        "id": "_nI9fr-j80T8"
      }
    },
    {
      "cell_type": "code",
      "execution_count": null,
      "metadata": {
        "id": "gFrkX4q88YsT"
      },
      "outputs": [],
      "source": [
        "import numpy as np\n",
        "import pandas as pd"
      ]
    },
    {
      "cell_type": "markdown",
      "source": [
        "**I'll create my data then use it as exemple to apply some techniques of data cleaning**"
      ],
      "metadata": {
        "id": "10HbQAMg8nlt"
      }
    },
    {
      "cell_type": "code",
      "source": [
        "data = {'bacon': 'pig', 'eggs': 'chicken', 'milk': 'cow', 'chicken': 'chicken', 'beef': 'cow', 'turkey': 'turkey', 'pork': 'pig'}"
      ],
      "metadata": {
        "id": "6E9OW51Q8nHt"
      },
      "execution_count": null,
      "outputs": []
    },
    {
      "cell_type": "code",
      "source": [
        "food_animal_df = pd.DataFrame(list(data.items()), columns=['food', 'animal'])"
      ],
      "metadata": {
        "id": "QOx2ZHYC9Hwm"
      },
      "execution_count": null,
      "outputs": []
    },
    {
      "cell_type": "markdown",
      "source": [
        "**Print the dataframe**"
      ],
      "metadata": {
        "id": "gYMLP5Yh9Sm9"
      }
    },
    {
      "cell_type": "code",
      "source": [
        "print(food_animal_df)"
      ],
      "metadata": {
        "colab": {
          "base_uri": "https://localhost:8080/"
        },
        "id": "zpIft3mV9jsx",
        "outputId": "21eaf592-1f65-41c2-fd5b-ba9a5cec4a3d"
      },
      "execution_count": null,
      "outputs": [
        {
          "output_type": "stream",
          "name": "stdout",
          "text": [
            "      food   animal\n",
            "0    bacon      pig\n",
            "1     eggs  chicken\n",
            "2     milk      cow\n",
            "3  chicken  chicken\n",
            "4     beef      cow\n",
            "5   turkey   turkey\n",
            "6     pork      pig\n"
          ]
        }
      ]
    },
    {
      "cell_type": "markdown",
      "source": [
        "**Now let's try to add a column to our df**"
      ],
      "metadata": {
        "id": "tNloA6XN_Kl-"
      }
    },
    {
      "cell_type": "code",
      "source": [
        "# Add a new column called \"weight\" with none values\n",
        "food_animal_df = food_animal_df.assign(weight=None)\n",
        "\n",
        "# Now display the df with the new column but it's not populated 😥\n",
        "\n",
        "print(food_animal_df)\n",
        "\n",
        "# How to drop a column/ligne\n",
        "# axis=0 means to drop rows and axis=1 means to drop columns.\n",
        "food_animal_df = food_animal_df.drop('source', axis=1)"
      ],
      "metadata": {
        "colab": {
          "base_uri": "https://localhost:8080/"
        },
        "id": "8SS0CKt0BSaq",
        "outputId": "fd13f51c-5c94-4575-a134-80546c5e0ac1"
      },
      "execution_count": null,
      "outputs": [
        {
          "output_type": "stream",
          "name": "stdout",
          "text": [
            "      food   animal  source weight\n",
            "0    bacon     slob    None   None\n",
            "1     eggs  chicken    bird   None\n",
            "2     milk      cow  mammal   None\n",
            "3  chicken  chicken    bird   None\n",
            "4     beef      cow  mammal   None\n",
            "5   turkey   turkey    bird   None\n",
            "6     pork     slob    None   None\n"
          ]
        }
      ]
    },
    {
      "cell_type": "code",
      "source": [
        "print(food_animal_df)"
      ],
      "metadata": {
        "colab": {
          "base_uri": "https://localhost:8080/"
        },
        "id": "ulUC81EzJXL5",
        "outputId": "697f22b9-234b-41a8-ee51-a0150a9648ec"
      },
      "execution_count": null,
      "outputs": [
        {
          "output_type": "stream",
          "name": "stdout",
          "text": [
            "      food   animal weight\n",
            "0    bacon     slob   None\n",
            "1     eggs  chicken   None\n",
            "2     milk      cow   None\n",
            "3  chicken  chicken   None\n",
            "4     beef      cow   None\n",
            "5   turkey   turkey   None\n",
            "6     pork     slob   None\n"
          ]
        }
      ]
    },
    {
      "cell_type": "markdown",
      "source": [
        "**Let's populate the column weight that we just added**"
      ],
      "metadata": {
        "id": "jNzVDBxfIpEf"
      }
    },
    {
      "cell_type": "code",
      "source": [
        "food_animal_df['weight'] = [\"3.4 kg\", \"3.6 kg\", \"4,5 kg\", \"3.4 kg\", \"3.4 kg\", \"3.4 kg\", \"3.4 kg\"]\n",
        "# keep in mind the column has to have the same lines of the lines in the df, otherwise it'll throw an error"
      ],
      "metadata": {
        "id": "4imz9NOiIwjH"
      },
      "execution_count": null,
      "outputs": []
    },
    {
      "cell_type": "code",
      "source": [
        "print(food_animal_df)"
      ],
      "metadata": {
        "colab": {
          "base_uri": "https://localhost:8080/"
        },
        "id": "tEr0KZ9qKuQG",
        "outputId": "690343c2-9370-4435-948c-db0c66491b63"
      },
      "execution_count": null,
      "outputs": [
        {
          "output_type": "stream",
          "name": "stdout",
          "text": [
            "      food   animal  weight\n",
            "0    bacon     slob  3.4 kg\n",
            "1     eggs  chicken  3.6 kg\n",
            "2     milk      cow  4,5 kg\n",
            "3  chicken  chicken  3.4 kg\n",
            "4     beef      cow  3.4 kg\n",
            "5   turkey   turkey  3.4 kg\n",
            "6     pork     slob  3.4 kg\n"
          ]
        }
      ]
    },
    {
      "cell_type": "markdown",
      "source": [
        "Let's replace pig in the animal column with *slob*"
      ],
      "metadata": {
        "id": "Sa0Dnoro_n2C"
      }
    },
    {
      "cell_type": "code",
      "source": [
        "food_animal_df[\"animal\"] = food_animal_df[\"animal\"].replace(\"pig\", \"slob\")"
      ],
      "metadata": {
        "id": "Fj7iU-gI_PzQ"
      },
      "execution_count": null,
      "outputs": []
    },
    {
      "cell_type": "code",
      "source": [
        "print(food_animal_df)"
      ],
      "metadata": {
        "colab": {
          "base_uri": "https://localhost:8080/"
        },
        "id": "B3WM_lLp_5Dk",
        "outputId": "51433b08-eb01-46de-94d8-e099405f791d"
      },
      "execution_count": null,
      "outputs": [
        {
          "output_type": "stream",
          "name": "stdout",
          "text": [
            "      food   animal\n",
            "0    bacon     slob\n",
            "1     eggs  chicken\n",
            "2     milk      cow\n",
            "3  chicken  chicken\n",
            "4     beef      cow\n",
            "5   turkey   turkey\n",
            "6     pork     slob\n"
          ]
        }
      ]
    },
    {
      "cell_type": "markdown",
      "source": [
        "**Create another Dataframe**"
      ],
      "metadata": {
        "id": "krIW6oMhkohx"
      }
    },
    {
      "cell_type": "code",
      "source": [
        "purchases ={\n",
        "    'ord_no': [70001, 70009, 70002, 70004, 70010, -1, 70006, 70007, 70012, 70011, 70013, 70003, 70008],\n",
        "    'purch_amt': [155.98, 84.98, 249.98, 695.98, 90.98, 219.98, 115.98, 319.98, 188.98, 165.98, 175.98, 45.98, 109.98],\n",
        "    'customer_id': [3002, 3001, 3003, 3002, 3001, 3004, 3003, -1, 3004, 3003, 3001, 3004, 3001],\n",
        "    'sales_id': [1002, 1001, 1003, 1002, 1001, -1, 1003, 1002, 1004, 1003, 1001, 1004, 1001]\n",
        "}\n",
        "\n",
        "purchases_df = pd.DataFrame(purchases)"
      ],
      "metadata": {
        "id": "yGQcyeRNky78"
      },
      "execution_count": null,
      "outputs": []
    },
    {
      "cell_type": "markdown",
      "source": [
        "**Print the Dataframe, and visualize it 😁**"
      ],
      "metadata": {
        "id": "PFMh_EnGk_Di"
      }
    },
    {
      "cell_type": "code",
      "source": [
        "print(purchases_df)\n",
        "purchases_df.describe()"
      ],
      "metadata": {
        "colab": {
          "base_uri": "https://localhost:8080/",
          "height": 543
        },
        "id": "85BVAweClA0W",
        "outputId": "bebc30ab-be69-40a0-fa8b-df7e0c7e7507"
      },
      "execution_count": null,
      "outputs": [
        {
          "output_type": "stream",
          "name": "stdout",
          "text": [
            "    ord_no  purch_amt  customer_id  sales_id\n",
            "0    70001     155.98         3002      1002\n",
            "1    70009      84.98         3001      1001\n",
            "2    70002     249.98         3003      1003\n",
            "3    70004     695.98         3002      1002\n",
            "4    70010      90.98         3001      1001\n",
            "5       -1     219.98         3004        -1\n",
            "6    70006     115.98         3003      1003\n",
            "7    70007     319.98           -1      1002\n",
            "8    70012     188.98         3004      1004\n",
            "9    70011     165.98         3003      1003\n",
            "10   70013     175.98         3001      1001\n",
            "11   70003      45.98         3004      1004\n",
            "12   70008     109.98         3001      1001\n"
          ]
        },
        {
          "output_type": "execute_result",
          "data": {
            "text/plain": [
              "             ord_no   purch_amt  customer_id     sales_id\n",
              "count     13.000000   13.000000    13.000000    13.000000\n",
              "mean   64621.923077  201.595385  2771.384615   925.076923\n",
              "std    19416.772275  166.094621   832.998753   278.253620\n",
              "min       -1.000000   45.980000    -1.000000    -1.000000\n",
              "25%    70003.000000  109.980000  3001.000000  1001.000000\n",
              "50%    70007.000000  165.980000  3002.000000  1002.000000\n",
              "75%    70010.000000  219.980000  3003.000000  1003.000000\n",
              "max    70013.000000  695.980000  3004.000000  1004.000000"
            ],
            "text/html": [
              "\n",
              "  <div id=\"df-7c661c1b-3b6f-49b3-a571-6fffe8c66a52\" class=\"colab-df-container\">\n",
              "    <div>\n",
              "<style scoped>\n",
              "    .dataframe tbody tr th:only-of-type {\n",
              "        vertical-align: middle;\n",
              "    }\n",
              "\n",
              "    .dataframe tbody tr th {\n",
              "        vertical-align: top;\n",
              "    }\n",
              "\n",
              "    .dataframe thead th {\n",
              "        text-align: right;\n",
              "    }\n",
              "</style>\n",
              "<table border=\"1\" class=\"dataframe\">\n",
              "  <thead>\n",
              "    <tr style=\"text-align: right;\">\n",
              "      <th></th>\n",
              "      <th>ord_no</th>\n",
              "      <th>purch_amt</th>\n",
              "      <th>customer_id</th>\n",
              "      <th>sales_id</th>\n",
              "    </tr>\n",
              "  </thead>\n",
              "  <tbody>\n",
              "    <tr>\n",
              "      <th>count</th>\n",
              "      <td>13.000000</td>\n",
              "      <td>13.000000</td>\n",
              "      <td>13.000000</td>\n",
              "      <td>13.000000</td>\n",
              "    </tr>\n",
              "    <tr>\n",
              "      <th>mean</th>\n",
              "      <td>64621.923077</td>\n",
              "      <td>201.595385</td>\n",
              "      <td>2771.384615</td>\n",
              "      <td>925.076923</td>\n",
              "    </tr>\n",
              "    <tr>\n",
              "      <th>std</th>\n",
              "      <td>19416.772275</td>\n",
              "      <td>166.094621</td>\n",
              "      <td>832.998753</td>\n",
              "      <td>278.253620</td>\n",
              "    </tr>\n",
              "    <tr>\n",
              "      <th>min</th>\n",
              "      <td>-1.000000</td>\n",
              "      <td>45.980000</td>\n",
              "      <td>-1.000000</td>\n",
              "      <td>-1.000000</td>\n",
              "    </tr>\n",
              "    <tr>\n",
              "      <th>25%</th>\n",
              "      <td>70003.000000</td>\n",
              "      <td>109.980000</td>\n",
              "      <td>3001.000000</td>\n",
              "      <td>1001.000000</td>\n",
              "    </tr>\n",
              "    <tr>\n",
              "      <th>50%</th>\n",
              "      <td>70007.000000</td>\n",
              "      <td>165.980000</td>\n",
              "      <td>3002.000000</td>\n",
              "      <td>1002.000000</td>\n",
              "    </tr>\n",
              "    <tr>\n",
              "      <th>75%</th>\n",
              "      <td>70010.000000</td>\n",
              "      <td>219.980000</td>\n",
              "      <td>3003.000000</td>\n",
              "      <td>1003.000000</td>\n",
              "    </tr>\n",
              "    <tr>\n",
              "      <th>max</th>\n",
              "      <td>70013.000000</td>\n",
              "      <td>695.980000</td>\n",
              "      <td>3004.000000</td>\n",
              "      <td>1004.000000</td>\n",
              "    </tr>\n",
              "  </tbody>\n",
              "</table>\n",
              "</div>\n",
              "    <div class=\"colab-df-buttons\">\n",
              "\n",
              "  <div class=\"colab-df-container\">\n",
              "    <button class=\"colab-df-convert\" onclick=\"convertToInteractive('df-7c661c1b-3b6f-49b3-a571-6fffe8c66a52')\"\n",
              "            title=\"Convert this dataframe to an interactive table.\"\n",
              "            style=\"display:none;\">\n",
              "\n",
              "  <svg xmlns=\"http://www.w3.org/2000/svg\" height=\"24px\" viewBox=\"0 -960 960 960\">\n",
              "    <path d=\"M120-120v-720h720v720H120Zm60-500h600v-160H180v160Zm220 220h160v-160H400v160Zm0 220h160v-160H400v160ZM180-400h160v-160H180v160Zm440 0h160v-160H620v160ZM180-180h160v-160H180v160Zm440 0h160v-160H620v160Z\"/>\n",
              "  </svg>\n",
              "    </button>\n",
              "\n",
              "  <style>\n",
              "    .colab-df-container {\n",
              "      display:flex;\n",
              "      gap: 12px;\n",
              "    }\n",
              "\n",
              "    .colab-df-convert {\n",
              "      background-color: #E8F0FE;\n",
              "      border: none;\n",
              "      border-radius: 50%;\n",
              "      cursor: pointer;\n",
              "      display: none;\n",
              "      fill: #1967D2;\n",
              "      height: 32px;\n",
              "      padding: 0 0 0 0;\n",
              "      width: 32px;\n",
              "    }\n",
              "\n",
              "    .colab-df-convert:hover {\n",
              "      background-color: #E2EBFA;\n",
              "      box-shadow: 0px 1px 2px rgba(60, 64, 67, 0.3), 0px 1px 3px 1px rgba(60, 64, 67, 0.15);\n",
              "      fill: #174EA6;\n",
              "    }\n",
              "\n",
              "    .colab-df-buttons div {\n",
              "      margin-bottom: 4px;\n",
              "    }\n",
              "\n",
              "    [theme=dark] .colab-df-convert {\n",
              "      background-color: #3B4455;\n",
              "      fill: #D2E3FC;\n",
              "    }\n",
              "\n",
              "    [theme=dark] .colab-df-convert:hover {\n",
              "      background-color: #434B5C;\n",
              "      box-shadow: 0px 1px 3px 1px rgba(0, 0, 0, 0.15);\n",
              "      filter: drop-shadow(0px 1px 2px rgba(0, 0, 0, 0.3));\n",
              "      fill: #FFFFFF;\n",
              "    }\n",
              "  </style>\n",
              "\n",
              "    <script>\n",
              "      const buttonEl =\n",
              "        document.querySelector('#df-7c661c1b-3b6f-49b3-a571-6fffe8c66a52 button.colab-df-convert');\n",
              "      buttonEl.style.display =\n",
              "        google.colab.kernel.accessAllowed ? 'block' : 'none';\n",
              "\n",
              "      async function convertToInteractive(key) {\n",
              "        const element = document.querySelector('#df-7c661c1b-3b6f-49b3-a571-6fffe8c66a52');\n",
              "        const dataTable =\n",
              "          await google.colab.kernel.invokeFunction('convertToInteractive',\n",
              "                                                    [key], {});\n",
              "        if (!dataTable) return;\n",
              "\n",
              "        const docLinkHtml = 'Like what you see? Visit the ' +\n",
              "          '<a target=\"_blank\" href=https://colab.research.google.com/notebooks/data_table.ipynb>data table notebook</a>'\n",
              "          + ' to learn more about interactive tables.';\n",
              "        element.innerHTML = '';\n",
              "        dataTable['output_type'] = 'display_data';\n",
              "        await google.colab.output.renderOutput(dataTable, element);\n",
              "        const docLink = document.createElement('div');\n",
              "        docLink.innerHTML = docLinkHtml;\n",
              "        element.appendChild(docLink);\n",
              "      }\n",
              "    </script>\n",
              "  </div>\n",
              "\n",
              "\n",
              "<div id=\"df-7643b4df-0f2c-46c9-9341-8267b597e3f9\">\n",
              "  <button class=\"colab-df-quickchart\" onclick=\"quickchart('df-7643b4df-0f2c-46c9-9341-8267b597e3f9')\"\n",
              "            title=\"Suggest charts\"\n",
              "            style=\"display:none;\">\n",
              "\n",
              "<svg xmlns=\"http://www.w3.org/2000/svg\" height=\"24px\"viewBox=\"0 0 24 24\"\n",
              "     width=\"24px\">\n",
              "    <g>\n",
              "        <path d=\"M19 3H5c-1.1 0-2 .9-2 2v14c0 1.1.9 2 2 2h14c1.1 0 2-.9 2-2V5c0-1.1-.9-2-2-2zM9 17H7v-7h2v7zm4 0h-2V7h2v10zm4 0h-2v-4h2v4z\"/>\n",
              "    </g>\n",
              "</svg>\n",
              "  </button>\n",
              "\n",
              "<style>\n",
              "  .colab-df-quickchart {\n",
              "      --bg-color: #E8F0FE;\n",
              "      --fill-color: #1967D2;\n",
              "      --hover-bg-color: #E2EBFA;\n",
              "      --hover-fill-color: #174EA6;\n",
              "      --disabled-fill-color: #AAA;\n",
              "      --disabled-bg-color: #DDD;\n",
              "  }\n",
              "\n",
              "  [theme=dark] .colab-df-quickchart {\n",
              "      --bg-color: #3B4455;\n",
              "      --fill-color: #D2E3FC;\n",
              "      --hover-bg-color: #434B5C;\n",
              "      --hover-fill-color: #FFFFFF;\n",
              "      --disabled-bg-color: #3B4455;\n",
              "      --disabled-fill-color: #666;\n",
              "  }\n",
              "\n",
              "  .colab-df-quickchart {\n",
              "    background-color: var(--bg-color);\n",
              "    border: none;\n",
              "    border-radius: 50%;\n",
              "    cursor: pointer;\n",
              "    display: none;\n",
              "    fill: var(--fill-color);\n",
              "    height: 32px;\n",
              "    padding: 0;\n",
              "    width: 32px;\n",
              "  }\n",
              "\n",
              "  .colab-df-quickchart:hover {\n",
              "    background-color: var(--hover-bg-color);\n",
              "    box-shadow: 0 1px 2px rgba(60, 64, 67, 0.3), 0 1px 3px 1px rgba(60, 64, 67, 0.15);\n",
              "    fill: var(--button-hover-fill-color);\n",
              "  }\n",
              "\n",
              "  .colab-df-quickchart-complete:disabled,\n",
              "  .colab-df-quickchart-complete:disabled:hover {\n",
              "    background-color: var(--disabled-bg-color);\n",
              "    fill: var(--disabled-fill-color);\n",
              "    box-shadow: none;\n",
              "  }\n",
              "\n",
              "  .colab-df-spinner {\n",
              "    border: 2px solid var(--fill-color);\n",
              "    border-color: transparent;\n",
              "    border-bottom-color: var(--fill-color);\n",
              "    animation:\n",
              "      spin 1s steps(1) infinite;\n",
              "  }\n",
              "\n",
              "  @keyframes spin {\n",
              "    0% {\n",
              "      border-color: transparent;\n",
              "      border-bottom-color: var(--fill-color);\n",
              "      border-left-color: var(--fill-color);\n",
              "    }\n",
              "    20% {\n",
              "      border-color: transparent;\n",
              "      border-left-color: var(--fill-color);\n",
              "      border-top-color: var(--fill-color);\n",
              "    }\n",
              "    30% {\n",
              "      border-color: transparent;\n",
              "      border-left-color: var(--fill-color);\n",
              "      border-top-color: var(--fill-color);\n",
              "      border-right-color: var(--fill-color);\n",
              "    }\n",
              "    40% {\n",
              "      border-color: transparent;\n",
              "      border-right-color: var(--fill-color);\n",
              "      border-top-color: var(--fill-color);\n",
              "    }\n",
              "    60% {\n",
              "      border-color: transparent;\n",
              "      border-right-color: var(--fill-color);\n",
              "    }\n",
              "    80% {\n",
              "      border-color: transparent;\n",
              "      border-right-color: var(--fill-color);\n",
              "      border-bottom-color: var(--fill-color);\n",
              "    }\n",
              "    90% {\n",
              "      border-color: transparent;\n",
              "      border-bottom-color: var(--fill-color);\n",
              "    }\n",
              "  }\n",
              "</style>\n",
              "\n",
              "  <script>\n",
              "    async function quickchart(key) {\n",
              "      const quickchartButtonEl =\n",
              "        document.querySelector('#' + key + ' button');\n",
              "      quickchartButtonEl.disabled = true;  // To prevent multiple clicks.\n",
              "      quickchartButtonEl.classList.add('colab-df-spinner');\n",
              "      try {\n",
              "        const charts = await google.colab.kernel.invokeFunction(\n",
              "            'suggestCharts', [key], {});\n",
              "      } catch (error) {\n",
              "        console.error('Error during call to suggestCharts:', error);\n",
              "      }\n",
              "      quickchartButtonEl.classList.remove('colab-df-spinner');\n",
              "      quickchartButtonEl.classList.add('colab-df-quickchart-complete');\n",
              "    }\n",
              "    (() => {\n",
              "      let quickchartButtonEl =\n",
              "        document.querySelector('#df-7643b4df-0f2c-46c9-9341-8267b597e3f9 button');\n",
              "      quickchartButtonEl.style.display =\n",
              "        google.colab.kernel.accessAllowed ? 'block' : 'none';\n",
              "    })();\n",
              "  </script>\n",
              "</div>\n",
              "    </div>\n",
              "  </div>\n"
            ],
            "application/vnd.google.colaboratory.intrinsic+json": {
              "type": "dataframe",
              "summary": "{\n  \"name\": \"purchases_df\",\n  \"rows\": 8,\n  \"fields\": [\n    {\n      \"column\": \"ord_no\",\n      \"properties\": {\n        \"dtype\": \"number\",\n        \"std\": 32924.171173217,\n        \"min\": -1.0,\n        \"max\": 70013.0,\n        \"num_unique_values\": 8,\n        \"samples\": [\n          64621.92307692308,\n          70007.0,\n          13.0\n        ],\n        \"semantic_type\": \"\",\n        \"description\": \"\"\n      }\n    },\n    {\n      \"column\": \"purch_amt\",\n      \"properties\": {\n        \"dtype\": \"number\",\n        \"std\": 212.28565776503098,\n        \"min\": 13.0,\n        \"max\": 695.98,\n        \"num_unique_values\": 8,\n        \"samples\": [\n          201.59538461538463,\n          165.98,\n          13.0\n        ],\n        \"semantic_type\": \"\",\n        \"description\": \"\"\n      }\n    },\n    {\n      \"column\": \"customer_id\",\n      \"properties\": {\n        \"dtype\": \"number\",\n        \"std\": 1409.7455424471705,\n        \"min\": -1.0,\n        \"max\": 3004.0,\n        \"num_unique_values\": 8,\n        \"samples\": [\n          2771.3846153846152,\n          3002.0,\n          13.0\n        ],\n        \"semantic_type\": \"\",\n        \"description\": \"\"\n      }\n    },\n    {\n      \"column\": \"sales_id\",\n      \"properties\": {\n        \"dtype\": \"number\",\n        \"std\": 469.0998188419303,\n        \"min\": -1.0,\n        \"max\": 1004.0,\n        \"num_unique_values\": 8,\n        \"samples\": [\n          925.0769230769231,\n          1002.0,\n          13.0\n        ],\n        \"semantic_type\": \"\",\n        \"description\": \"\"\n      }\n    }\n  ]\n}"
            }
          },
          "metadata": {},
          "execution_count": 31
        }
      ]
    },
    {
      "cell_type": "markdown",
      "source": [
        "**Now I only want to display the rows that contains positive values, if I have a negative value in any row I'll drop it !**"
      ],
      "metadata": {
        "id": "tKnFirvKlLAl"
      }
    },
    {
      "cell_type": "code",
      "source": [
        "# Create a mask to filter out rows where any of the columns have negative values\n",
        "mask = (purchases_df['ord_no'] >= 0) & (purchases_df['purch_amt'] >= 0) & (purchases_df['customer_id'] >= 0) & (purchases_df['sales_id'] >= 0)\n",
        "\n",
        "# Use the mask to create a new dataframe called filtered_purchases\n",
        "filtered_purchases = purchases_df[mask]\n",
        "\n",
        "# Display the filtered dataframe\n",
        "print(filtered_purchases)"
      ],
      "metadata": {
        "colab": {
          "base_uri": "https://localhost:8080/"
        },
        "id": "mRjxcU9ZlKgG",
        "outputId": "639143cd-9dfc-455b-cdd6-68b8c1138430"
      },
      "execution_count": null,
      "outputs": [
        {
          "output_type": "stream",
          "name": "stdout",
          "text": [
            "    ord_no  purch_amt  customer_id  sales_id\n",
            "0    70001     155.98         3002      1002\n",
            "1    70009      84.98         3001      1001\n",
            "2    70002     249.98         3003      1003\n",
            "3    70004     695.98         3002      1002\n",
            "4    70010      90.98         3001      1001\n",
            "6    70006     115.98         3003      1003\n",
            "8    70012     188.98         3004      1004\n",
            "9    70011     165.98         3003      1003\n",
            "10   70013     175.98         3001      1001\n",
            "11   70003      45.98         3004      1004\n",
            "12   70008     109.98         3001      1001\n"
          ]
        }
      ]
    }
  ]
}