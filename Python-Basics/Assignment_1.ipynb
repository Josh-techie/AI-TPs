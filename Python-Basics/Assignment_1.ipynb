{
  "nbformat": 4,
  "nbformat_minor": 0,
  "metadata": {
    "colab": {
      "provenance": []
    },
    "kernelspec": {
      "name": "python3",
      "display_name": "Python 3"
    },
    "language_info": {
      "name": "python"
    }
  },
  "cells": [
    {
      "cell_type": "markdown",
      "source": [
        "\n",
        "<center><h1> </h1></center>\n",
        "<center><h1> TD1 : Introduction to PYTHON</h1></center>\n",
        "<center><h3>Chapitre 1</h3></center>\n",
        "<center><h3>13-16 Février 2024</h3></center>\n",
        "<center><h1> </h1></center>"
      ],
      "metadata": {
        "id": "vBY1Vdsp00eN"
      }
    },
    {
      "cell_type": "markdown",
      "source": [
        "## **Exercice I**\n",
        "Assign the variables time and distance the values 6.892 and 19.7.\n",
        "Calculate and display the value of the speed."
      ],
      "metadata": {
        "id": "H21T-pD-pPFI"
      }
    },
    {
      "cell_type": "code",
      "execution_count": 1,
      "metadata": {
        "id": "X8Jrq3ytpInE",
        "colab": {
          "base_uri": "https://localhost:8080/"
        },
        "outputId": "5bd16c47-c02c-4ec9-c30a-1d7b1b1b1319"
      },
      "outputs": [
        {
          "output_type": "stream",
          "name": "stdout",
          "text": [
            "2.8583865351131745\n"
          ]
        }
      ],
      "source": [
        "time = 6.892\n",
        "distance = 19.7\n",
        "\n",
        "print(distance/time)"
      ]
    },
    {
      "cell_type": "markdown",
      "source": [
        "## **Exercice II**\n",
        "Enter a floating-point number. If it is positive or zero, display its square root, otherwise display an error message."
      ],
      "metadata": {
        "id": "c9SP64xNqvdz"
      }
    },
    {
      "cell_type": "code",
      "source": [
        "# Here we're taking the inpit from the user\n",
        "floatNumber = input('Enter a number: ')\n",
        "\n",
        "# Here we will cast the str to a float\n",
        "floatNumber = float(floatNumber)\n",
        "\n",
        "# the logic if positive or null calculing the squre else error!\n",
        "if ( floatNumber >= 0):\n",
        "  print(f\"The squre is {floatNumber**(1/2)}\" )\n",
        "else:\n",
        "  print('Error, number cannot be negative!')"
      ],
      "metadata": {
        "id": "oYgETNpLsxSi",
        "colab": {
          "base_uri": "https://localhost:8080/"
        },
        "outputId": "28a48d03-7296-4e99-9f41-fe55a62cac8e"
      },
      "execution_count": 6,
      "outputs": [
        {
          "output_type": "stream",
          "name": "stdout",
          "text": [
            "Enter a number: -2\n",
            "Error, number cannot be negative!\n"
          ]
        }
      ]
    },
    {
      "cell_type": "markdown",
      "source": [
        "## **Exercice III**\n",
        "\n",
        "Create a list L=[17, 38, 10, 25, 72].\n",
        "\n",
        "\n",
        "* Display the last element using negative indexing.\n",
        "* Display the element at index 3.\n",
        "* Create a program to find the sum of all the numbers stored in a list.\n",
        "\n",
        "\n"
      ],
      "metadata": {
        "id": "gduVZJMjsyza"
      }
    },
    {
      "cell_type": "code",
      "source": [
        "# I'll create my list here\n",
        "list = [17, 38, 10, 25, 72]\n",
        "\n",
        "# Displaying last element\n",
        "print(list[-1])\n",
        "\n",
        "# dislay element at index 3\n",
        "print(list[3])\n",
        "\n",
        "\n",
        "# Here find the sum of all num in the list\n",
        "\n",
        "# Initiliaze the sum to 0\n",
        "sum = 0\n",
        "\n",
        "for num in list:\n",
        "  sum += num\n",
        "\n",
        "print(f\"The sum of the list is: {sum}\")"
      ],
      "metadata": {
        "id": "OPr4e7lItdb-",
        "colab": {
          "base_uri": "https://localhost:8080/"
        },
        "outputId": "22a3678f-7196-4626-ad84-62da03089eb0"
      },
      "execution_count": 16,
      "outputs": [
        {
          "output_type": "stream",
          "name": "stdout",
          "text": [
            "72\n",
            "25\n",
            "The sum of the list is: 162\n"
          ]
        }
      ]
    },
    {
      "cell_type": "markdown",
      "source": [
        "## **Excercice IV**\n",
        "Write a script to obtain the following result:\n",
        "\n",
        "<br>\n",
        "\n",
        "*Enter a string* <br>\n",
        "*a string*<br>\n",
        "*The reversed string is:*<br>\n",
        "*gnirts a*<br>\n"
      ],
      "metadata": {
        "id": "JPbo4UoAuo0j"
      }
    },
    {
      "cell_type": "code",
      "source": [
        "string = input('Enter a string')\n",
        "\n",
        "reversed_str = string[::-1]\n",
        "print(f\"The reversed string is: {reversed_str}\")"
      ],
      "metadata": {
        "id": "uHmwc04qvOoV",
        "colab": {
          "base_uri": "https://localhost:8080/"
        },
        "outputId": "891012ef-a2b8-434c-8970-17e915285d1f"
      },
      "execution_count": 19,
      "outputs": [
        {
          "output_type": "stream",
          "name": "stdout",
          "text": [
            "Enter a stringa string\n",
            "The reversed string is: gnirts a\n"
          ]
        }
      ]
    },
    {
      "cell_type": "markdown",
      "source": [
        "## **Exercice V**\n",
        "\n",
        "Write a script that allows you to add natural numbers up to the number n: sum = 1+2+3+...+n."
      ],
      "metadata": {
        "id": "sTwY94GwvhHl"
      }
    },
    {
      "cell_type": "code",
      "source": [],
      "metadata": {
        "id": "vTFgbRcgv0hF"
      },
      "execution_count": null,
      "outputs": []
    },
    {
      "cell_type": "markdown",
      "source": [
        "## **Exercice VI**\n",
        "\n",
        "Ecrivez un programme qui demande à l’utilisateur d’entrer des notes d’élèves. Si l’utilisateur\n",
        "entre une valeur négative, le programme s’arrête. En revanche, pour chaque note saisie, le programme construit\n",
        "progressivement une liste. Après chaque entrée d’une nouvelle note (et donc à chaque itération de la boucle), il\n",
        "affiche le nombre de notes entrées, la note la plus élevée, la note la plus basse, la moyenne de toutes les notes.\n",
        "Astuce : Pour créer une liste vide, il suffit de taper la commande list = []."
      ],
      "metadata": {
        "id": "C8jUTVAVx5KO"
      }
    },
    {
      "cell_type": "code",
      "source": [],
      "metadata": {
        "id": "RtuH_EJlyIm-"
      },
      "execution_count": null,
      "outputs": []
    }
  ]
}