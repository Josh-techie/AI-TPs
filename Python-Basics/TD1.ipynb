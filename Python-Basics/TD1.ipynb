{
  "nbformat": 4,
  "nbformat_minor": 0,
  "metadata": {
    "colab": {
      "provenance": []
    },
    "kernelspec": {
      "name": "python3",
      "display_name": "Python 3"
    },
    "language_info": {
      "name": "python"
    }
  },
  "cells": [
    {
      "cell_type": "markdown",
      "source": [
        "\n",
        "<center><h1> </h1></center>\n",
        "<center><h1> TD1 : Introduction to PYTHON</h1></center>\n",
        "<center><h3>Chapitre 1</h3></center>\n",
        "<center><h3>13-16 Février 2024</h3></center>\n",
        "<center><h1> </h1></center>"
      ],
      "metadata": {
        "id": "vBY1Vdsp00eN"
      }
    },
    {
      "cell_type": "markdown",
      "source": [
        "## **Exercice I**\n",
        "Affectez les variables *temps* et *distance* par les valeurs 6.892 et 19.7.\n",
        "Calculez et affichez la valeur de la vitesse."
      ],
      "metadata": {
        "id": "H21T-pD-pPFI"
      }
    },
    {
      "cell_type": "code",
      "execution_count": null,
      "metadata": {
        "id": "X8Jrq3ytpInE"
      },
      "outputs": [],
      "source": []
    },
    {
      "cell_type": "markdown",
      "source": [
        "## **Exercice II**\n",
        "Saisissez un flottant. S’il est positif ou nul, affichez sa racine, sinon affichez un message\n",
        "d’erreur."
      ],
      "metadata": {
        "id": "c9SP64xNqvdz"
      }
    },
    {
      "cell_type": "code",
      "source": [],
      "metadata": {
        "id": "oYgETNpLsxSi"
      },
      "execution_count": null,
      "outputs": []
    },
    {
      "cell_type": "markdown",
      "source": [
        "## **Exercice III**\n",
        "\n",
        "Créez une liste L=[17, 38, 10, 25, 72].\n",
        "\n",
        "\n",
        "*   Affichez le dernier élément en utilisant un indiçage négatif.\n",
        "*   Affichez l’élément de l’indice 3.\n",
        "*   Créez un programme pour trouver la somme de tous les nombres stockés dans une liste\n",
        "\n",
        "\n"
      ],
      "metadata": {
        "id": "gduVZJMjsyza"
      }
    },
    {
      "cell_type": "code",
      "source": [],
      "metadata": {
        "id": "OPr4e7lItdb-"
      },
      "execution_count": null,
      "outputs": []
    },
    {
      "cell_type": "markdown",
      "source": [
        "## **Excercice IV**\n",
        "\n",
        "Ecrivez un script permettant d’obtenir le résultat suivant:\n",
        "\n",
        "<br>\n",
        "\n",
        "*Saisissez une chaine*<br>\n",
        "*une chaine*<br>\n",
        "*La chaine inversee est:*<br>\n",
        "*eniahc enu*<br>"
      ],
      "metadata": {
        "id": "JPbo4UoAuo0j"
      }
    },
    {
      "cell_type": "code",
      "source": [],
      "metadata": {
        "id": "uHmwc04qvOoV"
      },
      "execution_count": null,
      "outputs": []
    },
    {
      "cell_type": "markdown",
      "source": [
        "## **Exercice V**\n",
        "\n",
        "Ecrivez un script permettant d'additionner des nombres naturels jusqu'à le nombre n : *somme = 1+2+3+...+n*"
      ],
      "metadata": {
        "id": "sTwY94GwvhHl"
      }
    },
    {
      "cell_type": "code",
      "source": [],
      "metadata": {
        "id": "vTFgbRcgv0hF"
      },
      "execution_count": null,
      "outputs": []
    },
    {
      "cell_type": "markdown",
      "source": [
        "## **Exercice VI**\n",
        "\n",
        "Ecrivez un programme qui demande à l’utilisateur d’entrer des notes d’élèves. Si l’utilisateur\n",
        "entre une valeur négative, le programme s’arrête. En revanche, pour chaque note saisie, le programme construit\n",
        "progressivement une liste. Après chaque entrée d’une nouvelle note (et donc à chaque itération de la boucle), il\n",
        "affiche le nombre de notes entrées, la note la plus élevée, la note la plus basse, la moyenne de toutes les notes.\n",
        "Astuce : Pour créer une liste vide, il suffit de taper la commande list = []."
      ],
      "metadata": {
        "id": "C8jUTVAVx5KO"
      }
    },
    {
      "cell_type": "code",
      "source": [],
      "metadata": {
        "id": "RtuH_EJlyIm-"
      },
      "execution_count": null,
      "outputs": []
    }
  ]
}