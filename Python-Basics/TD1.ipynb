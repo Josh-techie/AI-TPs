{
  "cells": [
    {
      "cell_type": "markdown",
      "metadata": {
        "id": "vBY1Vdsp00eN"
      },
      "source": [
        "\n",
        "<center><h1> </h1></center>\n",
        "<center><h1> TD1 : Introduction to PYTHON</h1></center>\n",
        "<center><h3>Chapitre 1</h3></center>\n",
        "<center><h3>13-16 Février 2024</h3></center>\n",
        "<center><h1> </h1></center>"
      ]
    },
    {
      "cell_type": "markdown",
      "metadata": {
        "id": "H21T-pD-pPFI"
      },
      "source": [
        "## **Exercice I**\n",
        "Assign the variables time and distance the values 6.892 and 19.7.\n",
        "Calculate and display the value of the speed."
      ]
    },
    {
      "cell_type": "code",
      "execution_count": null,
      "metadata": {
        "id": "X8Jrq3ytpInE"
      },
      "outputs": [],
      "source": []
    },
    {
      "cell_type": "markdown",
      "metadata": {
        "id": "c9SP64xNqvdz"
      },
      "source": [
        "## **Exercice II**\n",
        "Enter a floating-point number. If it is positive or zero, display its square root, otherwise display an error message."
      ]
    },
    {
      "cell_type": "code",
      "execution_count": null,
      "metadata": {
        "id": "oYgETNpLsxSi"
      },
      "outputs": [],
      "source": []
    },
    {
      "cell_type": "markdown",
      "metadata": {
        "id": "gduVZJMjsyza"
      },
      "source": [
        "## **Exercice III**\n",
        "\n",
        "Créez une liste L=[17, 38, 10, 25, 72].\n",
        "\n",
        "\n",
        "*   Affichez le dernier élément en utilisant un indiçage négatif.\n",
        "*   Affichez l’élément de l’indice 3.\n",
        "*   Créez un programme pour trouver la somme de tous les nombres stockés dans une liste\n",
        "\n",
        "\n"
      ]
    },
    {
      "cell_type": "code",
      "execution_count": null,
      "metadata": {
        "id": "OPr4e7lItdb-"
      },
      "outputs": [],
      "source": []
    },
    {
      "cell_type": "markdown",
      "metadata": {
        "id": "JPbo4UoAuo0j"
      },
      "source": [
        "## **Excercice IV**\n",
        "\n",
        "Ecrivez un script permettant d’obtenir le résultat suivant:\n",
        "\n",
        "<br>\n",
        "\n",
        "*Saisissez une chaine*<br>\n",
        "*une chaine*<br>\n",
        "*La chaine inversee est:*<br>\n",
        "*eniahc enu*<br>"
      ]
    },
    {
      "cell_type": "code",
      "execution_count": null,
      "metadata": {
        "id": "uHmwc04qvOoV"
      },
      "outputs": [],
      "source": []
    },
    {
      "cell_type": "markdown",
      "metadata": {
        "id": "sTwY94GwvhHl"
      },
      "source": [
        "## **Exercice V**\n",
        "\n",
        "Ecrivez un script permettant d'additionner des nombres naturels jusqu'à le nombre n : *somme = 1+2+3+...+n*"
      ]
    },
    {
      "cell_type": "code",
      "execution_count": null,
      "metadata": {
        "id": "vTFgbRcgv0hF"
      },
      "outputs": [],
      "source": []
    },
    {
      "cell_type": "markdown",
      "metadata": {
        "id": "C8jUTVAVx5KO"
      },
      "source": [
        "## **Exercice VI**\n",
        "\n",
        "Ecrivez un programme qui demande à l’utilisateur d’entrer des notes d’élèves. Si l’utilisateur\n",
        "entre une valeur négative, le programme s’arrête. En revanche, pour chaque note saisie, le programme construit\n",
        "progressivement une liste. Après chaque entrée d’une nouvelle note (et donc à chaque itération de la boucle), il\n",
        "affiche le nombre de notes entrées, la note la plus élevée, la note la plus basse, la moyenne de toutes les notes.\n",
        "Astuce : Pour créer une liste vide, il suffit de taper la commande list = []."
      ]
    },
    {
      "cell_type": "code",
      "execution_count": null,
      "metadata": {
        "id": "RtuH_EJlyIm-"
      },
      "outputs": [],
      "source": []
    }
  ],
  "metadata": {
    "colab": {
      "provenance": []
    },
    "kernelspec": {
      "display_name": "Python 3",
      "name": "python3"
    },
    "language_info": {
      "name": "python"
    }
  },
  "nbformat": 4,
  "nbformat_minor": 0
}
