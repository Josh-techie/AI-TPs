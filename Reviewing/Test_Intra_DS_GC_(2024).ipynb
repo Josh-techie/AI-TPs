{
  "nbformat": 4,
  "nbformat_minor": 0,
  "metadata": {
    "colab": {
      "provenance": [],
      "include_colab_link": true
    },
    "kernelspec": {
      "name": "python3",
      "display_name": "Python 3"
    },
    "language_info": {
      "name": "python"
    }
  },
  "cells": [
    {
      "cell_type": "markdown",
      "metadata": {
        "id": "view-in-github",
        "colab_type": "text"
      },
      "source": [
        "<a href=\"https://colab.research.google.com/github/Josh-techie/AI-TPs/blob/master/Reviewing/Test_Intra_DS_GC_(2024).ipynb\" target=\"_parent\"><img src=\"https://colab.research.google.com/assets/colab-badge.svg\" alt=\"Open In Colab\"/></a>"
      ]
    },
    {
      "cell_type": "markdown",
      "source": [
        "<center><h1> <b>Contrôle 1 : Applied data science</b></h1></center>\n",
        "<center><h3> Génie Informatique GC</h3></center>\n",
        "<center><h3>19 Mars 2024</h3></center>\n",
        "\n",
        "---\n",
        "\n"
      ],
      "metadata": {
        "id": "vBY1Vdsp00eN"
      }
    },
    {
      "cell_type": "markdown",
      "source": [
        "\n",
        "1. Chaque cellule ne doit contenir qu'une seule réponse avec un commentaire indiquant le numéro de la question.\n",
        "2. Les résultats de chaque cellule doivent être affichés, un code sans résultat est automatiquement éliminé.\n",
        "3. L'utilisation de gmail, moodle ou de toute application ou site de messagerie est strictement interdite.\n",
        "4. L'accès au matériel de cours, au TPS est autorisé."
      ],
      "metadata": {
        "id": "wdokIj8eynSE"
      }
    },
    {
      "cell_type": "markdown",
      "source": [
        "# **Exercice I**\n",
        "Public-apis est une APIs publique qui permet d'obtenir une liste de toutes les API publiques actuellement cataloguées dans le projet.\n",
        "\n",
        "Le service ne nécessite aucune authentification pour être utilisé. Toutes les réponses sont également envoyées via HTTPS.\n",
        "\n",
        "**Documentation**: https://api.publicapis.org/"
      ],
      "metadata": {
        "id": "5wsy1GVvy--e"
      }
    },
    {
      "cell_type": "markdown",
      "source": [
        "1. Charger les bibliothèques et la dataset que vous utiliserez dans l'exercice"
      ],
      "metadata": {
        "id": "5j8TI1NL28kq"
      }
    },
    {
      "cell_type": "code",
      "source": [
        "import requests\n",
        "import json\n",
        "import pandas as pd"
      ],
      "metadata": {
        "id": "YgJBqZIm2_KB"
      },
      "execution_count": null,
      "outputs": []
    },
    {
      "cell_type": "markdown",
      "source": [
        "2. Collecter les informations (Nom, Description, Lien et Category) sur les API dont le nom contient la chaîne \"Cat\". (utilisez le paramètre ***title***)"
      ],
      "metadata": {
        "id": "1OMVL-yF0RdT"
      }
    },
    {
      "cell_type": "code",
      "execution_count": null,
      "metadata": {
        "id": "28PmK46iyUsi",
        "colab": {
          "base_uri": "https://localhost:8080/"
        },
        "outputId": "a475cb48-8ac5-41d2-88e0-9e0f93bfd702"
      },
      "outputs": [
        {
          "output_type": "stream",
          "name": "stdout",
          "text": [
            "                        API  \\\n",
            "0                 Cat Facts   \n",
            "1                    Cataas   \n",
            "2                      Cats   \n",
            "3                  HTTP Cat   \n",
            "4                    Catboy   \n",
            "5  Creative Commons Catalog   \n",
            "6             Catalogopolis   \n",
            "7            Catch The Show   \n",
            "\n",
            "                                         Description  \\\n",
            "0                                    Daily cat facts   \n",
            "1          Cat as a service (cats pictures and gifs)   \n",
            "2                       Pictures of cats from Tumblr   \n",
            "3                          Cat for every HTTP Status   \n",
            "4                     Neko images, funny GIFs & more   \n",
            "5  Search among openly licensed and public domain...   \n",
            "6                                     Doctor Who API   \n",
            "7                      REST API for next-episode.net   \n",
            "\n",
            "                                                Link              Category  \n",
            "0         https://alexwohlbruck.github.io/cat-facts/               Animals  \n",
            "1                                https://cataas.com/               Animals  \n",
            "2                        https://docs.thecatapi.com/               Animals  \n",
            "3                                  https://http.cat/               Animals  \n",
            "4                            https://catboys.com/api                 Anime  \n",
            "5           https://api.creativecommons.engineering/  Open Source Projects  \n",
            "6                https://api.catalogopolis.xyz/docs/                 Video  \n",
            "7  https://catchtheshow.herokuapp.com/api/documen...                 Video  \n"
          ]
        }
      ],
      "source": [
        "# Faire une requête à l'API\n",
        "response = requests.get(\"https://api.publicapis.org/entries\")\n",
        "\n",
        "# Convertir la réponse en JSON\n",
        "data = response.json()\n",
        "\n",
        "# Filtrer les données pour ne garder que les API dont le nom contient \"Cat\"\n",
        "filtered_data = [api for api in data[\"entries\"] if \"Cat\" in api[\"API\"]]\n",
        "\n",
        "\n"
      ]
    },
    {
      "cell_type": "markdown",
      "source": [
        "3. Stockez ces informations dans un Dataframe (pandas)."
      ],
      "metadata": {
        "id": "zMCwbn5B2Y8O"
      }
    },
    {
      "cell_type": "code",
      "source": [
        "# Créer un DataFrame à partir des données filtrées\n",
        "df = pd.DataFrame(filtered_data, columns=[\"API\", \"Description\", \"Link\", \"Category\"])\n",
        "\n",
        "# Afficher le DataFrame\n",
        "print(df)"
      ],
      "metadata": {
        "id": "Y6Q-H7lKy-f0",
        "colab": {
          "base_uri": "https://localhost:8080/"
        },
        "outputId": "38ccaffc-3880-419d-b5a0-ed62857c3a2d"
      },
      "execution_count": null,
      "outputs": [
        {
          "output_type": "stream",
          "name": "stdout",
          "text": [
            "                        API  \\\n",
            "0                 Cat Facts   \n",
            "1                    Cataas   \n",
            "2                      Cats   \n",
            "3                  HTTP Cat   \n",
            "4                    Catboy   \n",
            "5  Creative Commons Catalog   \n",
            "6             Catalogopolis   \n",
            "7            Catch The Show   \n",
            "\n",
            "                                         Description  \\\n",
            "0                                    Daily cat facts   \n",
            "1          Cat as a service (cats pictures and gifs)   \n",
            "2                       Pictures of cats from Tumblr   \n",
            "3                          Cat for every HTTP Status   \n",
            "4                     Neko images, funny GIFs & more   \n",
            "5  Search among openly licensed and public domain...   \n",
            "6                                     Doctor Who API   \n",
            "7                      REST API for next-episode.net   \n",
            "\n",
            "                                                Link              Category  \n",
            "0         https://alexwohlbruck.github.io/cat-facts/               Animals  \n",
            "1                                https://cataas.com/               Animals  \n",
            "2                        https://docs.thecatapi.com/               Animals  \n",
            "3                                  https://http.cat/               Animals  \n",
            "4                            https://catboys.com/api                 Anime  \n",
            "5           https://api.creativecommons.engineering/  Open Source Projects  \n",
            "6                https://api.catalogopolis.xyz/docs/                 Video  \n",
            "7  https://catchtheshow.herokuapp.com/api/documen...                 Video  \n"
          ]
        }
      ]
    },
    {
      "cell_type": "markdown",
      "source": [
        "4. Enregitrez les Dataframes dans un fichier csv."
      ],
      "metadata": {
        "id": "Kbjn9ahE2yoM"
      }
    },
    {
      "cell_type": "code",
      "source": [
        "# from the dataframe we'll turn it into a csv file and store it as API.csv\n",
        "\n",
        "df.to_csv('API.csv', index=False)\n",
        "\n",
        "# look at the files in the notebook or rerun the code 😁\n"
      ],
      "metadata": {
        "id": "WEQOq3IS3NLq"
      },
      "execution_count": null,
      "outputs": []
    },
    {
      "cell_type": "markdown",
      "source": [
        "# **Exercice II**\n"
      ],
      "metadata": {
        "id": "ISp_haqraGfD"
      }
    },
    {
      "cell_type": "markdown",
      "source": [
        "1. Définir une classe Point2d (constructeur, accesseur, mutateur) defini par les attributs ***x,y***\n",
        "\n"
      ],
      "metadata": {
        "id": "9AYRt8IG6oc4"
      }
    },
    {
      "cell_type": "code",
      "source": [
        "class Point2d:\n",
        "  # constructreur initilize les variables par 0\n",
        "    def __init__(self, x=0, y=0):\n",
        "        self._x = x\n",
        "        self._y = y\n",
        "\n",
        "    # Accesseurs (getters)\n",
        "    @property\n",
        "    def x(self):\n",
        "        return self._x\n",
        "\n",
        "    @property\n",
        "    def y(self):\n",
        "        return self._y\n",
        "\n",
        "    # Mutateurs (setters)\n",
        "    @x.setter\n",
        "    def x(self, value):\n",
        "        self._x = value\n",
        "\n",
        "    @y.setter\n",
        "    def y(self, value):\n",
        "        self._y = value"
      ],
      "metadata": {
        "id": "JaL2jarh6uHE"
      },
      "execution_count": null,
      "outputs": []
    },
    {
      "cell_type": "markdown",
      "source": [
        "2. Définir la fonction membre ***distance*** qui retourne la distance entre deux points.\n"
      ],
      "metadata": {
        "id": "DVNXghCg6sT5"
      }
    },
    {
      "cell_type": "code",
      "source": [
        "# NB: I'll need the math lib to calculate the distance with the square method of the library 😁\n",
        "# racine (a^2 + b^2) to find dist between a and b 😀\n",
        "\n",
        "import math\n"
      ],
      "metadata": {
        "id": "UQi-VUbz6FjZ"
      },
      "execution_count": null,
      "outputs": []
    },
    {
      "cell_type": "code",
      "source": [
        "# Method to calculate the distance between the two points!\n",
        "def distance(self, other_point):\n",
        "    return math.sqrt((other_point.x - self._x) ** 2 + (other_point.y - self._y) ** 2)"
      ],
      "metadata": {
        "id": "L2IK8ut3iDD-"
      },
      "execution_count": null,
      "outputs": []
    },
    {
      "cell_type": "markdown",
      "source": [
        "3. Surcharger la fonction ***print*** de tell maniere qu'elle affiche le point sous la forme ***(x,y)***.\n",
        "\n"
      ],
      "metadata": {
        "id": "C8kl8xzk6F_a"
      }
    },
    {
      "cell_type": "code",
      "source": [
        "# Méthode pour surcharger la fonction print\n",
        "def __str__(self):\n",
        "    return f\"({self._x}, {self._y})\""
      ],
      "metadata": {
        "id": "cDNYN3Qn6JVY"
      },
      "execution_count": null,
      "outputs": []
    },
    {
      "cell_type": "code",
      "source": [
        "# Test it by evoking the function 😊\n",
        "p = Point2d(3, 4)\n",
        "print(p)  # Affiche : (3, 4)\n"
      ],
      "metadata": {
        "colab": {
          "base_uri": "https://localhost:8080/"
        },
        "id": "PdjtB30di8CE",
        "outputId": "93fc485b-5b4b-4ca9-ce99-b558e631f34d"
      },
      "execution_count": null,
      "outputs": [
        {
          "output_type": "stream",
          "name": "stdout",
          "text": [
            "<__main__.Point2d object at 0x7e24d5c59ae0>\n"
          ]
        }
      ]
    },
    {
      "cell_type": "markdown",
      "source": [
        "4. Définir une classe rectangle defini par les attributs ***T*** (point de départ du rectangle)  de type ***point2d*** et ***B*** (point de fin du rectangle) de type ***point2d***.\n",
        "\n",
        "![rect.png](data:image/png;base64,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)"
      ],
      "metadata": {
        "id": "EFVDzvlp6Jhy"
      }
    },
    {
      "cell_type": "markdown",
      "source": [
        "\n",
        "\n",
        "5. Introduire une fonction membre ***inside*** qui retourne *True* si un point passé en argument est à l'intérieur du rectangle et *False* sinon.\n"
      ],
      "metadata": {
        "id": "oWy4kwkr6L9F"
      }
    },
    {
      "cell_type": "code",
      "source": [
        "# Here creating the class rectangle with error handling/catching & getters/setters !\n",
        "\n",
        "class Rectangle:\n",
        "    def __init__(self, T, B):\n",
        "        if isinstance(T, Point2d) and isinstance(B, Point2d):\n",
        "            self._T = T\n",
        "            self._B = B\n",
        "        else:\n",
        "            raise TypeError(\"T and B must be instances of Point2d\")\n",
        "\n",
        "    # Accesseurs (getters)\n",
        "    @property\n",
        "    def T(self):\n",
        "        return self._T\n",
        "\n",
        "    @property\n",
        "    def B(self):\n",
        "        return self._B\n",
        "\n",
        "    # Mutateurs (setters)\n",
        "    @T.setter\n",
        "    def T(self, value):\n",
        "        if isinstance(value, Point2d):\n",
        "            self._T = value\n",
        "        else:\n",
        "            raise TypeError(\"T must be an instance of Point2d\")\n",
        "\n",
        "    @B.setter\n",
        "    def B(self, value):\n",
        "        if isinstance(value, Point2d):\n",
        "            self._B = value\n",
        "        else:\n",
        "            raise TypeError(\"B must be an instance of Point2d\")"
      ],
      "metadata": {
        "id": "HbpOngqZ6NvR"
      },
      "execution_count": null,
      "outputs": []
    },
    {
      "cell_type": "markdown",
      "source": [
        "6. definir une fonction ***Area*** qui calcule la surface du rectangle.\n"
      ],
      "metadata": {
        "id": "2OJBAW0M6OXP"
      }
    },
    {
      "cell_type": "code",
      "source": [
        "\n",
        "    # Method to calculate the area of the rectangle!\n",
        "    def Area(self):\n",
        "        width = abs(self._B.x - self._T.x)\n",
        "        height = abs(self._B.y - self._T.y)\n",
        "        return width * height\n"
      ],
      "metadata": {
        "id": "1y22VQ_x6P-g"
      },
      "execution_count": null,
      "outputs": []
    },
    {
      "cell_type": "markdown",
      "source": [
        "7. Surcharger l'operateur '==' qui compare la surface de deux rectangles."
      ],
      "metadata": {
        "id": "WQiEsyX_6QLW"
      }
    },
    {
      "cell_type": "code",
      "source": [
        "# here we'll try to supercharge the '==' operator to cmp between two rec\n",
        "# which are of type classes 🤗 and error handling when the method can't be used !\n",
        "\n",
        "def __eq__(self, other_rectangle):\n",
        "    if isinstance(other_rectangle, Rectangle):\n",
        "        return self.Area() == other_rectangle.Area()\n",
        "    else:\n",
        "        raise TypeError(\"Can only compare with another Rectangle\")\n"
      ],
      "metadata": {
        "id": "b3jPBN4D6Q9N"
      },
      "execution_count": null,
      "outputs": []
    }
  ]
}