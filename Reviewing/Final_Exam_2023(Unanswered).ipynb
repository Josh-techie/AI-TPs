{
  "nbformat": 4,
  "nbformat_minor": 0,
  "metadata": {
    "colab": {
      "provenance": [],
      "include_colab_link": true
    },
    "kernelspec": {
      "name": "python3",
      "display_name": "Python 3"
    },
    "language_info": {
      "name": "python"
    }
  },
  "cells": [
    {
      "cell_type": "markdown",
      "metadata": {
        "id": "view-in-github",
        "colab_type": "text"
      },
      "source": [
        "<a href=\"https://colab.research.google.com/github/Josh-techie/AI-TPs/blob/master/Reviewing/Final_Exam_2023(Unanswered).ipynb\" target=\"_parent\"><img src=\"https://colab.research.google.com/assets/colab-badge.svg\" alt=\"Open In Colab\"/></a>"
      ]
    },
    {
      "cell_type": "markdown",
      "source": [
        "<center><h1> Final Exam : Applied Data science</h1></center>\n",
        "<center><h3>Génie Informatique</h3></center>\n",
        "<center><h3>09 juin 2023</h3></center>\n",
        "\n",
        "---\n",
        "\n"
      ],
      "metadata": {
        "id": "vBY1Vdsp00eN"
      }
    },
    {
      "cell_type": "markdown",
      "source": [
        "## **Exercice I**\n",
        "Les systèmes de détection d'intrusion (Intrusion Detection Systems IDS) et les systèmes de prévention d'intrusion (Intrusion Prevention Systems IPSs) sont les outils de défense les plus importants contre les attaques de réseau.\n",
        "La problématique que vous allez aborder est celle de la détection d'intrusion.<br>\n",
        "Votre objectif est de developper un systeme (basé sur les réseaux de neurones) de détection les comportements anormaux dans l'activité du réseau.<br>\n",
        "les données sont fournis dans moodle.\n",
        "1. Diviser les données en 80% données training et 20% testing.\n",
        "2. Créer un modèle ANN qui prédit si la trame est une attaque ou non, le modéle doit contenir 4 couches: 3 couches cachées de 64,32,16 neurones -respectivement- et une couche de sortie.\n",
        "3. utiliser comme algorithme d'optimization l'algorithme Adam.\n",
        "4. utiliser 20 epoches pour entrainer le modele.\n",
        "5. predire et afficher le resultat sur les données de test.\n"
      ],
      "metadata": {
        "id": "wdokIj8eynSE"
      }
    },
    {
      "cell_type": "code",
      "source": [],
      "metadata": {
        "id": "ekfeZpdH13E5"
      },
      "execution_count": null,
      "outputs": []
    },
    {
      "cell_type": "markdown",
      "source": [
        "# **Exercice II**"
      ],
      "metadata": {
        "id": "JIVtMGtDmNP2"
      }
    },
    {
      "cell_type": "markdown",
      "source": [
        "Le fichier **spacex_launch_data.csv** fournis dans moodle contient des informations de mission pour les lancements de fusées effectués par SpaceX  (Space Exploration Technologies Corp)."
      ],
      "metadata": {
        "id": "3xUz4EEAqvsx"
      }
    },
    {
      "cell_type": "markdown",
      "source": [
        "1. Charger les bibliothèques et la dataset que vous utiliserez dans l'exercice (pandas, numpy...) et lire le fichier spacex_launch_data.csv."
      ],
      "metadata": {
        "id": "UG6-Hk7-rm3z"
      }
    },
    {
      "cell_type": "code",
      "source": [
        "data=____"
      ],
      "metadata": {
        "id": "BGpsOYUjqvTc"
      },
      "execution_count": null,
      "outputs": []
    },
    {
      "cell_type": "markdown",
      "source": [
        "2. Afficher le nombre des cases vides de chaque colonne."
      ],
      "metadata": {
        "id": "uomX-2dtsRXx"
      }
    },
    {
      "cell_type": "code",
      "source": [],
      "metadata": {
        "id": "C9D1tk3HtpDL"
      },
      "execution_count": null,
      "outputs": []
    },
    {
      "cell_type": "markdown",
      "source": [
        "3. Convertire la colonne \"***Date***\" en type DateTime"
      ],
      "metadata": {
        "id": "EE-uS42utpKp"
      }
    },
    {
      "cell_type": "code",
      "source": [],
      "metadata": {
        "id": "DjWwSRO6qb9c"
      },
      "execution_count": null,
      "outputs": []
    },
    {
      "cell_type": "markdown",
      "source": [
        "4. Extraire l'année de la colonne \"***Date***\" puis ajouter la dans une colonne séparée."
      ],
      "metadata": {
        "id": "0nxEydbpqcUC"
      }
    },
    {
      "cell_type": "code",
      "source": [],
      "metadata": {
        "id": "gOdHBHS0qrni"
      },
      "execution_count": null,
      "outputs": []
    },
    {
      "cell_type": "markdown",
      "source": [
        "5. Convertire la colonne \"***Payload Mass (kg)***\" en entier ((effectuez tout le nettoyage nécessaire des données avant la conversion))"
      ],
      "metadata": {
        "id": "yh-9vd-iqsmK"
      }
    },
    {
      "cell_type": "code",
      "source": [],
      "metadata": {
        "id": "65q_xn2crpU9"
      },
      "execution_count": null,
      "outputs": []
    },
    {
      "cell_type": "markdown",
      "source": [
        "6. Creer un graphique qui affiche le nombre de vols par an."
      ],
      "metadata": {
        "id": "Vcg4WXe6rn0V"
      }
    },
    {
      "cell_type": "code",
      "source": [],
      "metadata": {
        "id": "XMxaS2olsnP-"
      },
      "execution_count": null,
      "outputs": []
    },
    {
      "cell_type": "markdown",
      "source": [
        "7. Créez un graphique linéaire qui montre comment le poids de la charge \"***Payload Mass (kg)***\" a évolué au fil du temps."
      ],
      "metadata": {
        "id": "fsdQ1HpXsntN"
      }
    },
    {
      "cell_type": "code",
      "source": [],
      "metadata": {
        "id": "8Rcf6jcwtVlG"
      },
      "execution_count": null,
      "outputs": []
    },
    {
      "cell_type": "markdown",
      "source": [
        "# **Exercice III**"
      ],
      "metadata": {
        "id": "roMLvlCJTwi6"
      }
    },
    {
      "cell_type": "markdown",
      "source": [
        "[www.triatek.com](https://www.triatek.com/)\n",
        "est le site web de la société **Triatek** qui conçoit et fabrique des produits et des solutions de circulation d'air pour les établissements de santé, les laboratoires et les installations municipales. dans cet exercice, vous allez créer un robot qui va collecter et stocker tous les produits présentés sur le site."
      ],
      "metadata": {
        "id": "TagECCevoD0Q"
      }
    },
    {
      "cell_type": "markdown",
      "source": [
        "1. Charger les bibliothèques et la dataset que vous utiliserez dans l'exercice (pandas, numpy...)"
      ],
      "metadata": {
        "id": "rsT8kJmymQJA"
      }
    },
    {
      "cell_type": "code",
      "execution_count": 2,
      "metadata": {
        "id": "w7nCoKsflEVJ"
      },
      "outputs": [],
      "source": [
        "import pandas as pd\n",
        "import numpy as np\n",
        "import requests\n",
        "import json"
      ]
    },
    {
      "cell_type": "markdown",
      "source": [
        "2. Créer un robot qui collecte tous les produit afficher sur le site."
      ],
      "metadata": {
        "id": "KgXGbzVbnKzm"
      }
    },
    {
      "cell_type": "code",
      "source": [],
      "metadata": {
        "id": "mC0GwGLynR0K"
      },
      "execution_count": null,
      "outputs": []
    },
    {
      "cell_type": "markdown",
      "source": [
        "3. Stockez ces informations dans un Dataframe (pandas)."
      ],
      "metadata": {
        "id": "Q2TYybT8nSgD"
      }
    },
    {
      "cell_type": "code",
      "source": [],
      "metadata": {
        "id": "QSoIbvcUnXVI"
      },
      "execution_count": null,
      "outputs": []
    },
    {
      "cell_type": "markdown",
      "source": [
        "4. Enregitrez les Dataframes dans un fichier csv."
      ],
      "metadata": {
        "id": "D0OBdAsynXmJ"
      }
    },
    {
      "cell_type": "code",
      "source": [],
      "metadata": {
        "id": "f-bIerrknZjn"
      },
      "execution_count": null,
      "outputs": []
    }
  ]
}