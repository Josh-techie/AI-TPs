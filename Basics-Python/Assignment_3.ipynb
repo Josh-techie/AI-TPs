{
  "nbformat": 4,
  "nbformat_minor": 0,
  "metadata": {
    "colab": {
      "provenance": [],
      "include_colab_link": true
    },
    "kernelspec": {
      "name": "python3",
      "display_name": "Python 3"
    },
    "language_info": {
      "name": "python"
    }
  },
  "cells": [
    {
      "cell_type": "markdown",
      "metadata": {
        "id": "view-in-github",
        "colab_type": "text"
      },
      "source": [
        "<a href=\"https://colab.research.google.com/github/Josh-techie/AI-TPs/blob/master/Basics-Python/Assignment_3.ipynb\" target=\"_parent\"><img src=\"https://colab.research.google.com/assets/colab-badge.svg\" alt=\"Open In Colab\"/></a>"
      ]
    },
    {
      "cell_type": "markdown",
      "source": [
        "<center><h1> Assignment 3 : PYTHON  (Part3)</h1></center>\n",
        "<center><h3>Chapter 3</h3></center>\n",
        "\n",
        "---\n",
        "\n"
      ],
      "metadata": {
        "id": "vBY1Vdsp00eN"
      }
    },
    {
      "cell_type": "markdown",
      "source": [
        "## **Exercice I**\n",
        "Define a class vecteur3d defined by the attributes ***x, y, z***\n",
        "\n",
        "1. Introduce a member function named coincide to determine if two vectors have the same components.\n",
        "2. Introduce a member function named normax to obtain, among two vectors, the one with the largest norm.\n",
        "3. Overload the + operator so that the following instructions will be accepted:\n",
        "   **v1 = vecteur3d(2, 3, 4), v2 = vecteur3d(0, 1, -1)**<br>\n",
        "   **v3 = v1 + v2 // v3 will be (2, 4, 3)** <br>\n",
        "4. Overload the ***print*** function in such a way that it displays the vector in the form ***(x, y, z)***\n",
        "5. Provide a program (main) to call the various member functions of the vecteur3d class.\n"
      ],
      "metadata": {
        "id": "cA97jRQNKA3x"
      }
    },
    {
      "cell_type": "code",
      "source": [
        "class vecteur3d:\n",
        "    def __init__(self, x, y, z):\n",
        "        self.x = x\n",
        "        self.y = y\n",
        "        self.z = z\n",
        "\n",
        "    def coincide(self, v):\n",
        "        return self.x == v.x and self.y == v.y and self.z == v.z\n",
        "\n",
        "    def normax(self, v):\n",
        "        if self.x > v.x and self.y > v.y and self.z > v.z:\n",
        "            return self\n",
        "        else:\n",
        "            return v\n",
        "\n",
        "    def __add__(self, v):\n",
        "        return vecteur3d(self.x + v.x, self.y + v.y, self.z + v.z)\n",
        "\n",
        "    def __str__(self):\n",
        "        return f'( {self.x}, {self.y}, {self.z} )'\n",
        "\n",
        "v1 = vecteur3d(2, 3, 4)\n",
        "v2 = vecteur3d(0, 1, -1)\n",
        "v3 = v1 + v2\n",
        "print(v3)\n",
        "\n",
        "print(v1.coincide(v2))\n",
        "print(v1.normax(v2))"
      ],
      "metadata": {
        "id": "gLxS9v9AZJ3m",
        "colab": {
          "base_uri": "https://localhost:8080/"
        },
        "outputId": "a8a324a6-ef19-4513-90f8-6ffa41584400"
      },
      "execution_count": 1,
      "outputs": [
        {
          "output_type": "stream",
          "name": "stdout",
          "text": [
            "( 2, 4, 3 )\n",
            "False\n",
            "( 2, 3, 4 )\n"
          ]
        }
      ]
    },
    {
      "cell_type": "markdown",
      "source": [
        "## **Exercice II**\n",
        "1. Create a class ***Article*** defined by the private attributes ***name*** (str), ***reference*** (str), ***unitPrice*** (float).\n",
        "2. Define the accessor and mutator methods.\n",
        "3. Define the class ***Pen*** that inherits from the ***Article*** class.\n",
        "4. Add an attribute ***couleur*** to this class.\n",
        "5. Define the accessor and mutator methods for this class.\n",
        "6. Define another class ***Ream*** that inherits from the ***Article*** class and add an attribute ***format*** to the class.\n",
        "7. Define a method ***getType()*** that displays the string \"this is an article\", \"this is a ream\" or \"this is a pen\" if the instance is of type ***Article***, ***Ream***, or ***Pen***, respectively.\n"
      ],
      "metadata": {
        "id": "81hkm5GaQAtk"
      }
    },
    {
      "cell_type": "code",
      "source": [
        "class Article:\n",
        "    def __init__(self, name, reference, unitPrice):\n",
        "        self.name = name\n",
        "        self.reference = reference\n",
        "        self.unitPrice = unitPrice\n",
        "\n",
        "    # Define accessor and mutator methods here\n",
        "\n",
        "\n",
        "class Pen(Article):\n",
        "    def __init__(self, name, reference, unitPrice, color):\n",
        "        super().__init__(name, reference, unitPrice)\n",
        "        self.color = color\n",
        "\n",
        "    # Define accessor and mutator methods for Pen here\n",
        "\n",
        "\n",
        "class Ream(Article):\n",
        "    def __init__(self, name, reference, unitPrice, format):\n",
        "        super().__init__(name, reference, unitPrice)\n",
        "        self.format = format\n",
        "\n",
        "    # Define accessor and mutator methods for Ream here\n",
        "\n",
        "    def getType(self):\n",
        "        return \"this is a ream\"\n",
        "\n",
        "\n",
        "# Instantiate the classes and print them\n",
        "article_instance = Article(\"Generic Article\", \"123\", 10.99)\n",
        "pen_instance = Pen(\"Blue Pen\", \"456\", 1.99, \"Blue\")\n",
        "ream_instance = Ream(\"A4 Ream\", \"789\", 5.99, \"A4\")\n",
        "\n",
        "print(article_instance.name, article_instance.reference, article_instance.unitPrice)\n",
        "print(pen_instance.name, pen_instance.reference, pen_instance.unitPrice, pen_instance.color)\n",
        "print(ream_instance.name, ream_instance.reference, ream_instance.unitPrice, ream_instance.format)\n",
        "print(ream_instance.getType())  # Output: this is a ream\n"
      ],
      "metadata": {
        "id": "-cFIYcgvZLgf",
        "colab": {
          "base_uri": "https://localhost:8080/"
        },
        "outputId": "24b4e6c9-9f29-47b7-f374-613f2904030d"
      },
      "execution_count": 9,
      "outputs": [
        {
          "output_type": "stream",
          "name": "stdout",
          "text": [
            "Generic Article 123 10.99\n",
            "Blue Pen 456 1.99 Blue\n",
            "A4 Ream 789 5.99 A4\n",
            "this is a ream\n"
          ]
        }
      ]
    },
    {
      "cell_type": "markdown",
      "source": [
        "## **Exercice III**\n",
        "1. Write a NumPy program to create a 3x3 matrix with values ranging from 2 to 10.\n",
        "2. Write a NumPy program to create a 2D array (5x5) with 1 on the border and 0 inside.\n",
        "3. Write a NumPy program to convert Celsius degree values to Fahrenheit degrees (°F = °C * 1.8 + 32.00).\n",
        "4. Write a NumPy program to test if each element of a 1-D array is also present in a second array.<br>\n",
        "Example:<br>\n",
        "  Array1: [0 10 20 40 60]<br>\n",
        "  Array2: [0 40]<br>\n",
        "  Output: [True False False True False]<br>\n"
      ],
      "metadata": {
        "id": "S5vWBXWLVYRW"
      }
    },
    {
      "cell_type": "code",
      "source": [
        "import numpy as np\n",
        "\n",
        "matrix_3x3 = np.arange(2, 11).reshape(3, 3)\n",
        "print(\"1. 3x3 Matrix with values ranging from 2 to 10:\")\n",
        "print(matrix_3x3)"
      ],
      "metadata": {
        "id": "4I6FbDAwV6Ku",
        "colab": {
          "base_uri": "https://localhost:8080/"
        },
        "outputId": "60f640c6-7521-4773-f5b9-e77eba62ca64"
      },
      "execution_count": 10,
      "outputs": [
        {
          "output_type": "stream",
          "name": "stdout",
          "text": [
            "1. 3x3 Matrix with values ranging from 2 to 10:\n",
            "[[ 2  3  4]\n",
            " [ 5  6  7]\n",
            " [ 8  9 10]]\n"
          ]
        }
      ]
    },
    {
      "cell_type": "code",
      "source": [
        "array_2d = np.ones((5, 5))\n",
        "array_2d[1:-1, 1:-1] = 0\n",
        "print(\"\\n2. 2D Array (5x5) with 1 on the border and 0 inside:\")\n",
        "print(array_2d)\n"
      ],
      "metadata": {
        "colab": {
          "base_uri": "https://localhost:8080/"
        },
        "id": "6dpARGNzKHjg",
        "outputId": "4fdd58f4-7f8e-4d34-8829-80eeff167aa7"
      },
      "execution_count": 11,
      "outputs": [
        {
          "output_type": "stream",
          "name": "stdout",
          "text": [
            "\n",
            "2. 2D Array (5x5) with 1 on the border and 0 inside:\n",
            "[[1. 1. 1. 1. 1.]\n",
            " [1. 0. 0. 0. 1.]\n",
            " [1. 0. 0. 0. 1.]\n",
            " [1. 0. 0. 0. 1.]\n",
            " [1. 1. 1. 1. 1.]]\n"
          ]
        }
      ]
    },
    {
      "cell_type": "code",
      "source": [
        "def celsius_to_fahrenheit(celsius_array):\n",
        "    return celsius_array * 1.8 + 32.0\n",
        "\n",
        "celsius_degrees = np.array([0, 25, 50, 75, 100])\n",
        "fahrenheit_degrees = celsius_to_fahrenheit(celsius_degrees)\n",
        "print(\"\\n3. Celsius to Fahrenheit Conversion:\")\n",
        "print(\"Celsius Degrees:\", celsius_degrees)\n",
        "print(\"Fahrenheit Degrees:\", fahrenheit_degrees)\n"
      ],
      "metadata": {
        "colab": {
          "base_uri": "https://localhost:8080/"
        },
        "id": "ZnsFX0L9KJMY",
        "outputId": "570e1936-a828-44f3-c584-7f13429f7f8a"
      },
      "execution_count": 12,
      "outputs": [
        {
          "output_type": "stream",
          "name": "stdout",
          "text": [
            "\n",
            "3. Celsius to Fahrenheit Conversion:\n",
            "Celsius Degrees: [  0  25  50  75 100]\n",
            "Fahrenheit Degrees: [ 32.  77. 122. 167. 212.]\n"
          ]
        }
      ]
    },
    {
      "cell_type": "code",
      "source": [
        "def test_element_presence(array1, array2):\n",
        "    return np.isin(array1, array2)\n",
        "\n",
        "array1 = np.array([0, 10, 20, 40, 60])\n",
        "array2 = np.array([0, 40])\n",
        "output = test_element_presence(array1, array2)\n",
        "print(\"\\n4. Test if each element of Array1 is present in Array2:\")\n",
        "print(\"Array1:\", array1)\n",
        "print(\"Array2:\", array2)\n",
        "print(\"Output:\", output)\n"
      ],
      "metadata": {
        "colab": {
          "base_uri": "https://localhost:8080/"
        },
        "id": "jC9Ql4PdKL1I",
        "outputId": "8d3ee641-46fb-498c-95cf-c575cda30b8a"
      },
      "execution_count": 13,
      "outputs": [
        {
          "output_type": "stream",
          "name": "stdout",
          "text": [
            "\n",
            "4. Test if each element of Array1 is present in Array2:\n",
            "Array1: [ 0 10 20 40 60]\n",
            "Array2: [ 0 40]\n",
            "Output: [ True False False  True False]\n"
          ]
        }
      ]
    }
  ]
}