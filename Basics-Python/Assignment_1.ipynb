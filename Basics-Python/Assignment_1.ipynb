{
  "nbformat": 4,
  "nbformat_minor": 0,
  "metadata": {
    "colab": {
      "provenance": [],
      "include_colab_link": true
    },
    "kernelspec": {
      "name": "python3",
      "display_name": "Python 3"
    },
    "language_info": {
      "name": "python"
    }
  },
  "cells": [
    {
      "cell_type": "markdown",
      "metadata": {
        "id": "view-in-github",
        "colab_type": "text"
      },
      "source": [
        "<a href=\"https://colab.research.google.com/github/Josh-techie/AI-TPs/blob/master/Python-Basics/Assignment_1.ipynb\" target=\"_parent\"><img src=\"https://colab.research.google.com/assets/colab-badge.svg\" alt=\"Open In Colab\"/></a>"
      ]
    },
    {
      "cell_type": "markdown",
      "source": [
        "\n",
        "<center><h1> </h1></center>\n",
        "<center><h1> TD1 : Introduction to PYTHON</h1></center>\n",
        "<center><h3>Chapitre 1</h3></center>\n",
        "<center><h3>13-16 Février 2024</h3></center>\n",
        "<center><h1> </h1></center>"
      ],
      "metadata": {
        "id": "vBY1Vdsp00eN"
      }
    },
    {
      "cell_type": "markdown",
      "source": [
        "## **Exercice I**\n",
        "Assign the variables time and distance the values 6.892 and 19.7.\n",
        "Calculate and display the value of the speed."
      ],
      "metadata": {
        "id": "H21T-pD-pPFI"
      }
    },
    {
      "cell_type": "code",
      "execution_count": null,
      "metadata": {
        "id": "X8Jrq3ytpInE",
        "colab": {
          "base_uri": "https://localhost:8080/"
        },
        "outputId": "5bd16c47-c02c-4ec9-c30a-1d7b1b1b1319"
      },
      "outputs": [
        {
          "output_type": "stream",
          "name": "stdout",
          "text": [
            "2.8583865351131745\n"
          ]
        }
      ],
      "source": [
        "time = 6.892\n",
        "distance = 19.7\n",
        "\n",
        "print(distance/time)"
      ]
    },
    {
      "cell_type": "markdown",
      "source": [
        "## **Exercice II**\n",
        "Enter a floating-point number. If it is positive or zero, display its square root, otherwise display an error message."
      ],
      "metadata": {
        "id": "c9SP64xNqvdz"
      }
    },
    {
      "cell_type": "code",
      "source": [
        "# Here we're taking the inpit from the user\n",
        "floatNumber = input('Enter a number: ')\n",
        "\n",
        "# Here we will cast the str to a float\n",
        "floatNumber = float(floatNumber)\n",
        "\n",
        "# the logic if positive or null calculing the squre else error!\n",
        "if ( floatNumber >= 0):\n",
        "  print(f\"The squre is {floatNumber**(1/2)}\" )\n",
        "else:\n",
        "  print('Error, number cannot be negative!')"
      ],
      "metadata": {
        "id": "oYgETNpLsxSi",
        "colab": {
          "base_uri": "https://localhost:8080/"
        },
        "outputId": "28a48d03-7296-4e99-9f41-fe55a62cac8e"
      },
      "execution_count": null,
      "outputs": [
        {
          "output_type": "stream",
          "name": "stdout",
          "text": [
            "Enter a number: -2\n",
            "Error, number cannot be negative!\n"
          ]
        }
      ]
    },
    {
      "cell_type": "markdown",
      "source": [
        "## **Exercice III**\n",
        "\n",
        "Create a list L=[17, 38, 10, 25, 72].\n",
        "\n",
        "\n",
        "* Display the last element using negative indexing.\n",
        "* Display the element at index 3.\n",
        "* Create a program to find the sum of all the numbers stored in a list.\n",
        "\n",
        "\n"
      ],
      "metadata": {
        "id": "gduVZJMjsyza"
      }
    },
    {
      "cell_type": "code",
      "source": [
        "# I'll create my list here\n",
        "list = [17, 38, 10, 25, 72]\n",
        "\n",
        "# Displaying last element\n",
        "print(list[-1])\n",
        "\n",
        "# dislay element at index 3\n",
        "print(list[3])\n",
        "\n",
        "\n",
        "# Here find the sum of all num in the list\n",
        "\n",
        "# Initiliaze the sum to 0\n",
        "sum = 0\n",
        "\n",
        "for num in list:\n",
        "  sum += num\n",
        "\n",
        "print(f\"The sum of the list is: {sum}\")"
      ],
      "metadata": {
        "id": "OPr4e7lItdb-",
        "colab": {
          "base_uri": "https://localhost:8080/"
        },
        "outputId": "22a3678f-7196-4626-ad84-62da03089eb0"
      },
      "execution_count": null,
      "outputs": [
        {
          "output_type": "stream",
          "name": "stdout",
          "text": [
            "72\n",
            "25\n",
            "The sum of the list is: 162\n"
          ]
        }
      ]
    },
    {
      "cell_type": "markdown",
      "source": [
        "## **Excercice IV**\n",
        "Write a script to obtain the following result:\n",
        "\n",
        "<br>\n",
        "\n",
        "*Enter a string* <br>\n",
        "*a string*<br>\n",
        "*The reversed string is:*<br>\n",
        "*gnirts a*<br>\n"
      ],
      "metadata": {
        "id": "JPbo4UoAuo0j"
      }
    },
    {
      "cell_type": "code",
      "source": [
        "string = input('Enter a string: ')\n",
        "\n",
        "# reverse the srting: takes arguments as start, stop and step since we haven't specified the start and the stop so it's start at the beginning of the string and stop till the end of str (ususally \\n)\n",
        "reversed_str = string[::-1]\n",
        "print(f\"The reversed string is: {reversed_str}\")"
      ],
      "metadata": {
        "id": "uHmwc04qvOoV",
        "colab": {
          "base_uri": "https://localhost:8080/"
        },
        "outputId": "6cbd7ea7-1c89-4be9-b914-89a2faf403c1"
      },
      "execution_count": 2,
      "outputs": [
        {
          "output_type": "stream",
          "name": "stdout",
          "text": [
            "Enter a stringhello\n",
            "The reversed string is: olleh\n"
          ]
        }
      ]
    },
    {
      "cell_type": "markdown",
      "source": [
        "## **Exercice V**\n",
        "\n",
        "Write a script that allows you to add natural numbers up to the number n: sum = 1+2+3+...+n."
      ],
      "metadata": {
        "id": "sTwY94GwvhHl"
      }
    },
    {
      "cell_type": "code",
      "source": [
        "# taking input of the n value from the user\n",
        "n = input('You want to sum till, how much: ')\n",
        "\n",
        "# cast str to float because input takes by defaut str\n",
        "n = int(n)\n",
        "\n",
        "if n > 0:\n",
        "# rule to calculate arithmetic sequence give the first element in the sequence is 1\n",
        "  sum = (1 + n) * n / 2\n",
        "  # print the output\n",
        "  print(f\"The sum till {n} is: {sum}\")\n",
        "else:\n",
        "  print('Error can\\'t calculate sequence of negative numbers, please enter positive number!' )\n",
        "\n"
      ],
      "metadata": {
        "id": "vTFgbRcgv0hF",
        "colab": {
          "base_uri": "https://localhost:8080/"
        },
        "outputId": "7e0dd420-d8a0-4483-dfc3-3303f29600fc"
      },
      "execution_count": 9,
      "outputs": [
        {
          "output_type": "stream",
          "name": "stdout",
          "text": [
            "You want to sum till, how much: -5\n",
            "Error can't calculate sequence of negative numbers, please enter positive number!\n"
          ]
        }
      ]
    },
    {
      "cell_type": "markdown",
      "source": [
        "## **Exercice VI**\n",
        "\n",
        "Write a program that asks the user to enter student grades. If the user enters a negative value, the program stops. However, for each entered grade, the program gradually builds a list. After each entry of a new grade (and therefore at each iteration of the loop), it displays the number of grades entered, the highest grade, the lowest grade, and the average of all grades.\n",
        "\n",
        "💁‍♂️ Tip: To create an empty list, simply type the command list = []."
      ],
      "metadata": {
        "id": "C8jUTVAVx5KO"
      }
    },
    {
      "cell_type": "code",
      "source": [
        "# Initialize an empty list to store grades\n",
        "grades = []\n",
        "\n",
        "# Ask the user to enter student grades\n",
        "while True:\n",
        "    grade = float(input(\"Enter the student's grade : \"))\n",
        "    if grade >= 0:\n",
        "      grades.append(grade)\n",
        "\n",
        "      # Display the number of grades entered, highest grade, lowest grade, and the average of all grades\n",
        "\n",
        "      print(f\"Number of grades entered: {len(grades)}\")\n",
        "      print(f\"Highest grade: {max(grades)}\")\n",
        "      print(f\"Lowest grade: {min(grades)}\")\n",
        "\n",
        "      # initialize the sum to 0\n",
        "      sum = 0\n",
        "      # Here we will calculate the average\n",
        "      for grade in grades:\n",
        "        sum+=grade\n",
        "      avg = sum/len(grades)\n",
        "      print(f\"The average: {avg}\")\n",
        "    else:\n",
        "      print('Grade can\\'t be negative, The program will abort')\n",
        "      break\n",
        "\n",
        "# Sorry this code seems like sh*t though, make better one for future me 😁\n"
      ],
      "metadata": {
        "id": "RtuH_EJlyIm-",
        "colab": {
          "base_uri": "https://localhost:8080/"
        },
        "outputId": "debea359-eba8-4ed7-bee3-3abd305f8777"
      },
      "execution_count": 35,
      "outputs": [
        {
          "output_type": "stream",
          "name": "stdout",
          "text": [
            "Enter the student's grade : 12\n",
            "Number of grades entered: 1\n",
            "Highest grade: 12.0\n",
            "Lowest grade: 12.0\n",
            "The average: 12.0\n",
            "Enter the student's grade : 10\n",
            "Number of grades entered: 2\n",
            "Highest grade: 12.0\n",
            "Lowest grade: 10.0\n",
            "The average: 11.0\n",
            "Enter the student's grade : -9\n",
            "Grade can't be negative, The program will abort\n"
          ]
        }
      ]
    }
  ]
}