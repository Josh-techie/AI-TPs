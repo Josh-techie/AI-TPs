{
  "nbformat": 4,
  "nbformat_minor": 0,
  "metadata": {
    "colab": {
      "provenance": [],
      "include_colab_link": true
    },
    "kernelspec": {
      "name": "python3",
      "display_name": "Python 3"
    },
    "language_info": {
      "name": "python"
    }
  },
  "cells": [
    {
      "cell_type": "markdown",
      "metadata": {
        "id": "view-in-github",
        "colab_type": "text"
      },
      "source": [
        "<a href=\"https://colab.research.google.com/github/Josh-techie/AI-TPs/blob/master/Basics-Python/Assignment_2.ipynb\" target=\"_parent\"><img src=\"https://colab.research.google.com/assets/colab-badge.svg\" alt=\"Open In Colab\"/></a>"
      ]
    },
    {
      "cell_type": "markdown",
      "source": [
        "<center><h1></h1></center>\n",
        "<center><h1> TD2 : PYTHON (Part 2)</h1></center>\n",
        "<center><h3>Chapter 2</h3></center>\n",
        "<center><h3>20-23 February 2024</h3></center>\n",
        "\n",
        "---\n",
        "\n"
      ],
      "metadata": {
        "id": "vBY1Vdsp00eN"
      }
    },
    {
      "cell_type": "markdown",
      "source": [
        "## **Exercice I**\n",
        "Create a list of real numbers with dimension N.\n",
        "<ol>\n",
        "<li> Write a function that allows reading the list. </li>\n",
        "<li> Write a function that allows to search for and display the minimum and the maximum.</li>\n",
        "<li> Write a function that searches for the most frequent element in the list.</li>\n",
        "<li> Using the lambda function, write a function that allows you to remove all negative numbers.</li>\n",
        "<li> Write a function that allows you to calculate the sum of the elements.</li>\n",
        "<li> Write the main program that implements all these functions. </li>\n",
        "</ol>"
      ],
      "metadata": {
        "id": "H21T-pD-pPFI"
      }
    },
    {
      "cell_type": "code",
      "source": [
        "# I'll create my tuple with dimension N given by the user\n",
        "\n",
        "N = int(input('Give me the dimension of the list: '))\n",
        "my_Liste = []\n",
        "\n",
        "# Find min and max in the list\n",
        "def search_min_max(given_List):\n",
        "    max_value = max(given_List)\n",
        "    min_value = min(given_List)\n",
        "    print( f\"The min value is: {min_value}, The max value is: {max_value}\")\n",
        "\n",
        "\n",
        "# Search frequency of elm\n",
        "\n",
        "def frequency_elm(given_List):\n",
        "    # Initialize an empty dictionary to hold frequencies\n",
        "    freq_dict = {}\n",
        "\n",
        "    # Iterate through each element in the input list\n",
        "    for elm in given_List:\n",
        "\n",
        "        # Check if the current element is already present in the dictionary\n",
        "        if elm in freq_dict:\n",
        "\n",
        "            # If so, increment its count by one\n",
        "            freq_dict[elm] += 1\n",
        "\n",
        "        # Otherwise, add the new element with initial count as 1\n",
        "        else:\n",
        "            freq_dict[elm] = 1\n",
        "\n",
        "    # Return the resulting dictionary containing frequencies\n",
        "    return freq_dict\n",
        "\n",
        "\n",
        "\n",
        "\n",
        "for i in range(N):\n",
        "  my_Liste.append(int(input(f'Give me the real number {i+1}: ')))\n",
        "\n",
        "print(search_min_max(my_Liste))\n"
      ],
      "metadata": {
        "id": "Xj0TajFHEI8E",
        "colab": {
          "base_uri": "https://localhost:8080/"
        },
        "outputId": "50093ece-3558-4196-9ed8-d2fb41aec6e4"
      },
      "execution_count": null,
      "outputs": [
        {
          "output_type": "stream",
          "name": "stdout",
          "text": [
            "Give me the dimension of the list: 4\n",
            "Give me the real number 1: 23\n",
            "Give me the real number 2: 12\n",
            "Give me the real number 3: 12\n",
            "Give me the real number 4: 23\n",
            "The min value is: 12, The max value is: 23\n",
            "None\n"
          ]
        }
      ]
    },
    {
      "cell_type": "markdown",
      "source": [
        "## **Exercice II**\n",
        "Create a module 'calculator' containing 4 functions (addition, subtraction, multiplication, division)"
      ],
      "metadata": {
        "id": "c9SP64xNqvdz"
      }
    },
    {
      "cell_type": "code",
      "source": [
        "# Supposedly we saved the module code in a file named calculator.py\n",
        "\n",
        "def add(x, y):\n",
        "    return x + y\n",
        "\n",
        "def subtract(x, y):\n",
        "    return x - y\n",
        "\n",
        "def multiply(x, y):\n",
        "    return x * y\n",
        "\n",
        "def divide(x, y):\n",
        "    if y == 0:\n",
        "        raise ZeroDivisionError(\"Cannot divide by zero\")\n",
        "    else:\n",
        "        return x / y\n",
        "\n",
        "# in another file for example main.py\n",
        "  # to import everything\n",
        "import calculator\n",
        "  # to import just certain functions (substract)\n",
        "from calculator import substract\n",
        "\n",
        "# Perform arithmetic operations\n",
        "addition = calculator.add(5, 3)\n",
        "substraction = calculator.subtract(10, 4)\n",
        "multiplication = calculator.multiply(2, 6)\n",
        "division = calculator.divide(8, 2)\n",
        "\n",
        "# Print results\n",
        "print(\"Addition:\", addition)\n",
        "print(\"Subtraction:\", substraction)\n",
        "print(\"Multiplication:\", multiplication)\n",
        "print(\"Division:\", division)\n",
        "\n"
      ],
      "metadata": {
        "id": "oYgETNpLsxSi"
      },
      "execution_count": null,
      "outputs": []
    },
    {
      "cell_type": "markdown",
      "source": [
        "## **Exercice III**\n",
        "\n",
        "Write a Python program to count the number of characters (character frequency) in a string.\n",
        "\n",
        "**Example**\n",
        "\n",
        "* String example: google.com'\n",
        "* Result: {'g': 2, 'o': 3, 'l': 1, 'e': 1, '.': 1, 'c': 1, 'm': 1}\n",
        "\n",
        "\n"
      ],
      "metadata": {
        "id": "gduVZJMjsyza"
      }
    },
    {
      "cell_type": "code",
      "source": [
        "def count_caracters(client_string):\n",
        "\n",
        "    # here create empty dictionary\n",
        "    result = {}\n",
        "\n",
        "    # convert to lower caracter\n",
        "    for char in set(client_string.lower()):\n",
        "        # ignore non-alphabetic characters like spaces and punctuation marks other than dot\n",
        "        if char.isalpha() or char == \".\":\n",
        "            # count the number of occurences\n",
        "            count = client_string.lower().count(char)\n",
        "            # add to the dictionary\n",
        "            result[char] = count\n",
        "    return result\n",
        "\n",
        "# takes input from user and printing the result\n",
        "client_string = input('Give me a string pwease 😁: ')\n",
        "print(count_caracters(client_string))\n",
        "\n",
        "\n"
      ],
      "metadata": {
        "id": "OPr4e7lItdb-",
        "colab": {
          "base_uri": "https://localhost:8080/"
        },
        "outputId": "85f26023-949b-4b49-a12b-ea84923f1d96"
      },
      "execution_count": 3,
      "outputs": [
        {
          "output_type": "stream",
          "name": "stdout",
          "text": [
            "Give me a string pwease 😁: mtenten\n",
            "{'t': 2, 'm': 1, 'n': 2, 'e': 2}\n"
          ]
        }
      ]
    },
    {
      "cell_type": "markdown",
      "source": [
        "## **Excercice IV**\n",
        "\n",
        "Write a Python function that takes a list of words and returns the longest word and its length."
      ],
      "metadata": {
        "id": "JPbo4UoAuo0j"
      }
    },
    {
      "cell_type": "code",
      "source": [
        "def find_longest_word(words):\n",
        "  # initializing the var holding the word we're at at the moment\n",
        "  # then calculating the length of that word\n",
        "  # then taking that length and comparing each time the length of the new words from the list wth that length\n",
        "    longest_word = \"\"\n",
        "    max_length = 0\n",
        "\n",
        "    for word in words:\n",
        "        if len(word) > max_length:\n",
        "            longest_word = word\n",
        "            max_length = len(word)\n",
        "\n",
        "    return longest_word, max_length\n",
        "\n",
        "# create the world list manually otherwese we can ask the user to fill it.\n",
        "word_list = [\"ROYCE\", \"BAYLA\", \"KINDERGARDEN\", \"WATEFAAAH\"]\n",
        "# evoque the function and printing results\n",
        "longest_word, length = find_longest_word(word_list)\n",
        "print(f\"The longest word is '{longest_word}' with a length of {length} characters.\")"
      ],
      "metadata": {
        "id": "uHmwc04qvOoV",
        "colab": {
          "base_uri": "https://localhost:8080/"
        },
        "outputId": "3e74fff8-1b55-4a7e-d12c-102d4661b9ec"
      },
      "execution_count": 4,
      "outputs": [
        {
          "output_type": "stream",
          "name": "stdout",
          "text": [
            "The longest word is 'KINDERGARDEN' with a length of 12 characters.\n"
          ]
        }
      ]
    },
    {
      "cell_type": "markdown",
      "source": [
        "## **Exercice V**\n",
        "\n",
        "Create a list nums = [10, 20, 30, 40, 50, 60, 70, 80, 90].\n",
        "Provide the code (Using slicing) to get the following results.\n",
        "\n",
        "* [80, 70, 60, 50, 40, 30, 20, 10]\n",
        "* [50, 60, 70, 80]\n",
        "* [90, 70, 50, 30, 10]\n",
        "* [30, 50, 70, 90]\n",
        "* [90, 80, 70, 60, 50, 40, 30, 20, 10]\n",
        "* [70, 80, 90]\n",
        "* [90, 60, 30]\n",
        "\n",
        "\n"
      ],
      "metadata": {
        "id": "sTwY94GwvhHl"
      }
    },
    {
      "cell_type": "code",
      "source": [
        "# creating the list\n",
        "nums = [10, 20, 30, 40, 50, 60, 70, 80, 90]\n",
        "\n",
        "# [80, 70, 60, 50, 40, 30, 20, 10]\n",
        "result1 = nums[-2::-1]\n",
        "\n",
        "# [50, 60, 70, 80]\n",
        "result2 = nums[4:8]\n",
        "\n",
        "# [90, 70, 50, 30, 10]\n",
        "result3 = nums[-1:-6:-2]\n",
        "\n",
        "# [30, 50, 70, 90]\n",
        "result4 = nums[2::2]\n",
        "\n",
        "# [90, 80, 70, 60, 50, 40, 30, 20, 10]\n",
        "result5 = nums[::-1]\n",
        "\n",
        "# [70, 80, 90]\n",
        "result6 = nums[6:]\n",
        "\n",
        "# [90, 60, 30]\n",
        "result7 = nums[-1::-3]\n",
        "\n",
        "print(result1)\n",
        "print(result2)\n",
        "print(result3)\n",
        "print(result4)\n",
        "print(result5)\n",
        "print(result6)\n",
        "print(result7)"
      ],
      "metadata": {
        "id": "vTFgbRcgv0hF",
        "colab": {
          "base_uri": "https://localhost:8080/"
        },
        "outputId": "1df43cf7-e72a-4b17-cb7e-c3a825383ea0"
      },
      "execution_count": 5,
      "outputs": [
        {
          "output_type": "stream",
          "name": "stdout",
          "text": [
            "[80, 70, 60, 50, 40, 30, 20, 10]\n",
            "[50, 60, 70, 80]\n",
            "[90, 70, 50]\n",
            "[30, 50, 70, 90]\n",
            "[90, 80, 70, 60, 50, 40, 30, 20, 10]\n",
            "[70, 80, 90]\n",
            "[90, 60, 30]\n"
          ]
        }
      ]
    },
    {
      "cell_type": "markdown",
      "source": [
        "## **Exercice VI**\n",
        "\n",
        "* Write a function in Python that takes as arguments the filename and the number of lines and returns the first n lines from that file.\n",
        "\n",
        "* Write a function to add text to the end of a file and display this text.\n",
        "\n",
        "*  Write a Python function to read a file line by line and store it in a list.\"\n"
      ],
      "metadata": {
        "id": "C8jUTVAVx5KO"
      }
    },
    {
      "cell_type": "code",
      "source": [
        "# Function to return the first n lines from a file\n",
        "def read_first_n_lines(filename, n):\n",
        "    try:\n",
        "        with open(filename, \"r\") as file:\n",
        "            lines = [next(file) for _ in range(n)]\n",
        "            return lines\n",
        "    except FileNotFoundError:\n",
        "        return \"File not found.\"\n",
        "\n",
        "\n",
        "# Function to add text to the end of a file and display it\n",
        "def add_text_to_file(filename, text):\n",
        "    try:\n",
        "        with open(filename, \"a\") as file:\n",
        "            file.write(text)\n",
        "        print(\"Text added successfully.\")\n",
        "    except FileNotFoundError:\n",
        "        print(\"File not found.\")\n",
        "\n",
        "\n",
        "# Function to read a file line by line and store it in a list\n",
        "def read_file_lines_to_list(filename):\n",
        "    try:\n",
        "        with open(filename, \"r\") as file:\n",
        "            lines = file.readlines()\n",
        "            return lines\n",
        "    except FileNotFoundError:\n",
        "        return \"File not found.\"\n",
        "\n",
        "# Create a file named test.txt and play with it to see!\n",
        "filename = \"test.txt\"\n",
        "\n",
        "# 1. Read the first 3 lines from the file\n",
        "first_n_lines = read_first_n_lines(filename, 3)\n",
        "print(\"First 3 lines:\", first_n_lines)\n",
        "\n",
        "# 2. Add text to the end of the file\n",
        "text_to_add = \"This is new text to be added.\"\n",
        "add_text_to_file(filename, text_to_add)\n",
        "\n",
        "# 3. Read the file line by line and store it in a list\n",
        "file_lines = read_file_lines_to_list(filename)\n",
        "print(\"File lines:\", file_lines)\n",
        "\n",
        "\n",
        "\n",
        "# for more details refer to: https://github.com/Josh-techie/AI-TPs/tree/master/Basics-Python/File_Manipulation"
      ],
      "metadata": {
        "id": "RtuH_EJlyIm-"
      },
      "execution_count": 6,
      "outputs": []
    }
  ]
}