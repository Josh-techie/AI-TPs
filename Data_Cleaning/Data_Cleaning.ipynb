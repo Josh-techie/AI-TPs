{
  "nbformat": 4,
  "nbformat_minor": 0,
  "metadata": {
    "colab": {
      "provenance": []
    },
    "kernelspec": {
      "name": "python3",
      "display_name": "Python 3"
    },
    "language_info": {
      "name": "python"
    }
  },
  "cells": [
    {
      "cell_type": "markdown",
      "source": [
        "**Import the necessary liibraries**"
      ],
      "metadata": {
        "id": "_nI9fr-j80T8"
      }
    },
    {
      "cell_type": "code",
      "execution_count": 1,
      "metadata": {
        "id": "gFrkX4q88YsT"
      },
      "outputs": [],
      "source": [
        "import numpy as np\n",
        "import pandas as pd"
      ]
    },
    {
      "cell_type": "markdown",
      "source": [
        "**I'll create my data then use it as exemple to apply some techniques of data cleaning**"
      ],
      "metadata": {
        "id": "10HbQAMg8nlt"
      }
    },
    {
      "cell_type": "code",
      "source": [
        "data = {'bacon': 'pig', 'eggs': 'chicken', 'milk': 'cow', 'chicken': 'chicken', 'beef': 'cow', 'turkey': 'turkey', 'pork': 'pig'}"
      ],
      "metadata": {
        "id": "6E9OW51Q8nHt"
      },
      "execution_count": 13,
      "outputs": []
    },
    {
      "cell_type": "code",
      "source": [
        "food_animal_df = pd.DataFrame(list(data.items()), columns=['food', 'animal'])"
      ],
      "metadata": {
        "id": "QOx2ZHYC9Hwm"
      },
      "execution_count": 14,
      "outputs": []
    },
    {
      "cell_type": "markdown",
      "source": [
        "**Print the dataframe**"
      ],
      "metadata": {
        "id": "gYMLP5Yh9Sm9"
      }
    },
    {
      "cell_type": "code",
      "source": [
        "print(food_animal_df)"
      ],
      "metadata": {
        "colab": {
          "base_uri": "https://localhost:8080/"
        },
        "id": "zpIft3mV9jsx",
        "outputId": "21eaf592-1f65-41c2-fd5b-ba9a5cec4a3d"
      },
      "execution_count": 15,
      "outputs": [
        {
          "output_type": "stream",
          "name": "stdout",
          "text": [
            "      food   animal\n",
            "0    bacon      pig\n",
            "1     eggs  chicken\n",
            "2     milk      cow\n",
            "3  chicken  chicken\n",
            "4     beef      cow\n",
            "5   turkey   turkey\n",
            "6     pork      pig\n"
          ]
        }
      ]
    },
    {
      "cell_type": "markdown",
      "source": [
        "**Now let's try to add a column to our df**"
      ],
      "metadata": {
        "id": "tNloA6XN_Kl-"
      }
    },
    {
      "cell_type": "code",
      "source": [
        "# Add a new column called \"weight\" with none values\n",
        "food_animal_df = food_animal_df.assign(weight=None)\n",
        "\n",
        "# Now display the df with the new column but it's not populated 😥\n",
        "\n",
        "print(food_animal_df)\n",
        "\n",
        "# How to drop a column/ligne\n",
        "# axis=0 means to drop rows and axis=1 means to drop columns.\n",
        "food_animal_df = food_animal_df.drop('source', axis=1)"
      ],
      "metadata": {
        "colab": {
          "base_uri": "https://localhost:8080/"
        },
        "id": "8SS0CKt0BSaq",
        "outputId": "fd13f51c-5c94-4575-a134-80546c5e0ac1"
      },
      "execution_count": 24,
      "outputs": [
        {
          "output_type": "stream",
          "name": "stdout",
          "text": [
            "      food   animal  source weight\n",
            "0    bacon     slob    None   None\n",
            "1     eggs  chicken    bird   None\n",
            "2     milk      cow  mammal   None\n",
            "3  chicken  chicken    bird   None\n",
            "4     beef      cow  mammal   None\n",
            "5   turkey   turkey    bird   None\n",
            "6     pork     slob    None   None\n"
          ]
        }
      ]
    },
    {
      "cell_type": "code",
      "source": [
        "print(food_animal_df)"
      ],
      "metadata": {
        "colab": {
          "base_uri": "https://localhost:8080/"
        },
        "id": "ulUC81EzJXL5",
        "outputId": "697f22b9-234b-41a8-ee51-a0150a9648ec"
      },
      "execution_count": 25,
      "outputs": [
        {
          "output_type": "stream",
          "name": "stdout",
          "text": [
            "      food   animal weight\n",
            "0    bacon     slob   None\n",
            "1     eggs  chicken   None\n",
            "2     milk      cow   None\n",
            "3  chicken  chicken   None\n",
            "4     beef      cow   None\n",
            "5   turkey   turkey   None\n",
            "6     pork     slob   None\n"
          ]
        }
      ]
    },
    {
      "cell_type": "markdown",
      "source": [
        "**Let's populate the column weight that we just added**"
      ],
      "metadata": {
        "id": "jNzVDBxfIpEf"
      }
    },
    {
      "cell_type": "code",
      "source": [
        "food_animal_df['weight'] = [\"3.4 kg\", \"3.6 kg\", \"4,5 kg\", \"3.4 kg\", \"3.4 kg\", \"3.4 kg\", \"3.4 kg\"]\n",
        "# keep in mind the column has to have the same lines of the lines in the df, otherwise it'll throw an error"
      ],
      "metadata": {
        "id": "4imz9NOiIwjH"
      },
      "execution_count": 27,
      "outputs": []
    },
    {
      "cell_type": "code",
      "source": [
        "print(food_animal_df)"
      ],
      "metadata": {
        "colab": {
          "base_uri": "https://localhost:8080/"
        },
        "id": "tEr0KZ9qKuQG",
        "outputId": "690343c2-9370-4435-948c-db0c66491b63"
      },
      "execution_count": 28,
      "outputs": [
        {
          "output_type": "stream",
          "name": "stdout",
          "text": [
            "      food   animal  weight\n",
            "0    bacon     slob  3.4 kg\n",
            "1     eggs  chicken  3.6 kg\n",
            "2     milk      cow  4,5 kg\n",
            "3  chicken  chicken  3.4 kg\n",
            "4     beef      cow  3.4 kg\n",
            "5   turkey   turkey  3.4 kg\n",
            "6     pork     slob  3.4 kg\n"
          ]
        }
      ]
    },
    {
      "cell_type": "markdown",
      "source": [
        "Let's replace pig in the animal column with *slob*"
      ],
      "metadata": {
        "id": "Sa0Dnoro_n2C"
      }
    },
    {
      "cell_type": "code",
      "source": [
        "food_animal_df[\"animal\"] = food_animal_df[\"animal\"].replace(\"pig\", \"slob\")"
      ],
      "metadata": {
        "id": "Fj7iU-gI_PzQ"
      },
      "execution_count": 18,
      "outputs": []
    },
    {
      "cell_type": "code",
      "source": [
        "print(food_animal_df)"
      ],
      "metadata": {
        "colab": {
          "base_uri": "https://localhost:8080/"
        },
        "id": "B3WM_lLp_5Dk",
        "outputId": "51433b08-eb01-46de-94d8-e099405f791d"
      },
      "execution_count": 19,
      "outputs": [
        {
          "output_type": "stream",
          "name": "stdout",
          "text": [
            "      food   animal\n",
            "0    bacon     slob\n",
            "1     eggs  chicken\n",
            "2     milk      cow\n",
            "3  chicken  chicken\n",
            "4     beef      cow\n",
            "5   turkey   turkey\n",
            "6     pork     slob\n"
          ]
        }
      ]
    }
  ]
}