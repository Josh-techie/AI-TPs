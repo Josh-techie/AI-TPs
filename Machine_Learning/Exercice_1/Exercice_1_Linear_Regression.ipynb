{
  "cells": [
    {
      "cell_type": "markdown",
      "metadata": {
        "colab_type": "text",
        "id": "view-in-github"
      },
      "source": [
        "<a href=\"https://colab.research.google.com/github/Josh-techie/AI-TPs/blob/master/Machine_Learning/Exercice_1/Exercice_1_Linear_Regression.ipynb\" target=\"_parent\"><img src=\"https://colab.research.google.com/assets/colab-badge.svg\" alt=\"Open In Colab\"/></a>"
      ]
    },
    {
      "cell_type": "markdown",
      "metadata": {
        "id": "Dif_xFH9o6lu"
      },
      "source": [
        "# Drive connection"
      ]
    },
    {
      "cell_type": "code",
      "execution_count": null,
      "metadata": {
        "id": "Eft671oQo2n5"
      },
      "outputs": [],
      "source": [
        "from google.colab import drive\n",
        "drive.mount(\"/content/drive\", force_remount=True)\n",
        "data = pd.read_csv('/content/drive/My Drive/market.csv')"
      ]
    },
    {
      "cell_type": "markdown",
      "metadata": {
        "id": "wk3uzroFozcZ"
      },
      "source": [
        "# Visualisation of the dataset"
      ]
    },
    {
      "cell_type": "code",
      "execution_count": null,
      "metadata": {
        "id": "d76s-B12oybb"
      },
      "outputs": [],
      "source": [
        "data.head()"
      ]
    },
    {
      "cell_type": "markdown",
      "metadata": {
        "id": "JilUUHsCou2V"
      },
      "source": [
        "# Data Description"
      ]
    },
    {
      "cell_type": "code",
      "execution_count": null,
      "metadata": {
        "id": "NEffAGqOot9s"
      },
      "outputs": [],
      "source": [
        "data.describe()\n",
        "df = data"
      ]
    },
    {
      "cell_type": "markdown",
      "metadata": {
        "id": "5urZmnwnosvI"
      },
      "source": [
        "# Target selection"
      ]
    },
    {
      "cell_type": "code",
      "execution_count": null,
      "metadata": {
        "id": "qbrKyAJ8op_T"
      },
      "outputs": [],
      "source": [
        "y = df['Close']"
      ]
    },
    {
      "cell_type": "markdown",
      "metadata": {
        "id": "xeRTN_x_oo9Z"
      },
      "source": [
        "# Selection of features without a target"
      ]
    },
    {
      "cell_type": "code",
      "execution_count": null,
      "metadata": {
        "id": "wa6Mc7SSonPn"
      },
      "outputs": [],
      "source": [
        "x = df.drop(columns=['Date','Close','Total Trade Quantity','Turnover (Lacs)'])"
      ]
    },
    {
      "cell_type": "markdown",
      "metadata": {
        "id": "Dqh6m6p8oSaa"
      },
      "source": [
        "# Dividing into training set and testing set ( Usually 80% training and 20% testing)"
      ]
    },
    {
      "cell_type": "code",
      "execution_count": null,
      "metadata": {
        "id": "5mP55sJ1oQ6o"
      },
      "outputs": [],
      "source": [
        "from sklearn.model_selection import train_test_split\n",
        "train_x, test_x, train_y, test_y = train_test_split(x, y, test_size=0.15)\n",
        "print(train_x.shape )\n",
        "print(test_x.shape)\n",
        "print(train_y.shape)\n",
        "print(test_y.shape)"
      ]
    },
    {
      "cell_type": "markdown",
      "metadata": {
        "id": "0E3wNUUzoMeQ"
      },
      "source": [
        "# Choosing the appropriate model"
      ]
    },
    {
      "cell_type": "code",
      "execution_count": null,
      "metadata": {
        "id": "dwiU3tFAoLhQ"
      },
      "outputs": [],
      "source": [
        "from sklearn.linear_model import LinearRegression\n",
        "regression = LinearRegression()"
      ]
    },
    {
      "cell_type": "markdown",
      "metadata": {
        "id": "QOCwlGyVoGTg"
      },
      "source": [
        "# Training"
      ]
    },
    {
      "cell_type": "code",
      "execution_count": null,
      "metadata": {
        "id": "FbiKT1jHoFj5"
      },
      "outputs": [],
      "source": [
        "regression.fit(train_x, train_y)"
      ]
    },
    {
      "cell_type": "markdown",
      "metadata": {
        "id": "LzxfeKm4oCeS"
      },
      "source": [
        "\n",
        "# Metrique Evaluation"
      ]
    },
    {
      "cell_type": "code",
      "execution_count": null,
      "metadata": {
        "id": "UQJoggqAoAtw"
      },
      "outputs": [],
      "source": [
        "print(\"regression coefficient\",regression.coef_)\n",
        "regression_confidence = regression.score(test_x, test_y)\n",
        "print(\"linear regression confidence: \", regression_confidence)"
      ]
    },
    {
      "cell_type": "markdown",
      "metadata": {
        "id": "eL2uabc-nzNI"
      },
      "source": [
        "# Testing the model"
      ]
    },
    {
      "cell_type": "code",
      "execution_count": null,
      "metadata": {
        "id": "IwvWKNWqn0w4"
      },
      "outputs": [],
      "source": [
        "predicted=regression.predict(test_x)"
      ]
    },
    {
      "cell_type": "markdown",
      "metadata": {
        "id": "JVOWw-2VntdR"
      },
      "source": [
        "# Result Visualization"
      ]
    },
    {
      "cell_type": "code",
      "execution_count": null,
      "metadata": {
        "id": "w7CYtixenxTy"
      },
      "outputs": [],
      "source": [
        "dfr=pd.DataFrame({'actual_close':test_y, 'Predicted_close':predicted})\n",
        "dfr.head(10)"
      ]
    }
  ],
  "metadata": {
    "colab": {
      "authorship_tag": "ABX9TyOeNdWibq7WLa3lFJciNIDM",
      "include_colab_link": true,
      "provenance": []
    },
    "kernelspec": {
      "display_name": "Python 3",
      "name": "python3"
    },
    "language_info": {
      "name": "python"
    }
  },
  "nbformat": 4,
  "nbformat_minor": 0
}
