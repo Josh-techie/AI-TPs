{
  "nbformat": 4,
  "nbformat_minor": 0,
  "metadata": {
    "colab": {
      "provenance": [],
      "authorship_tag": "ABX9TyOeNdWibq7WLa3lFJciNIDM",
      "include_colab_link": true
    },
    "kernelspec": {
      "name": "python3",
      "display_name": "Python 3"
    },
    "language_info": {
      "name": "python"
    }
  },
  "cells": [
    {
      "cell_type": "markdown",
      "metadata": {
        "id": "view-in-github",
        "colab_type": "text"
      },
      "source": [
        "<a href=\"https://colab.research.google.com/github/Josh-techie/AI-TPs/blob/master/Machine_Learning/Exercice_1/Exercice_1_Linear_Regression.ipynb\" target=\"_parent\"><img src=\"https://colab.research.google.com/assets/colab-badge.svg\" alt=\"Open In Colab\"/></a>"
      ]
    },
    {
      "cell_type": "markdown",
      "source": [
        "# Drive connection"
      ],
      "metadata": {
        "id": "Dif_xFH9o6lu"
      }
    },
    {
      "cell_type": "code",
      "source": [
        "from google.colab import drive\n",
        "drive.mount(\"/content/drive\", force_remount=True)\n",
        "data = pd.read_csv('/content/drive/My Drive/market.csv')"
      ],
      "metadata": {
        "id": "Eft671oQo2n5"
      },
      "execution_count": null,
      "outputs": []
    },
    {
      "cell_type": "markdown",
      "source": [
        "# Visualisation of the dataset"
      ],
      "metadata": {
        "id": "wk3uzroFozcZ"
      }
    },
    {
      "cell_type": "code",
      "source": [
        "data.head()"
      ],
      "metadata": {
        "id": "d76s-B12oybb"
      },
      "execution_count": null,
      "outputs": []
    },
    {
      "cell_type": "markdown",
      "source": [
        "# Data Description"
      ],
      "metadata": {
        "id": "JilUUHsCou2V"
      }
    },
    {
      "cell_type": "code",
      "source": [
        "data.describe()\n",
        "df = data"
      ],
      "metadata": {
        "id": "NEffAGqOot9s"
      },
      "execution_count": null,
      "outputs": []
    },
    {
      "cell_type": "markdown",
      "source": [
        "# Target selection"
      ],
      "metadata": {
        "id": "5urZmnwnosvI"
      }
    },
    {
      "cell_type": "code",
      "source": [
        "y = df['Close']"
      ],
      "metadata": {
        "id": "qbrKyAJ8op_T"
      },
      "execution_count": null,
      "outputs": []
    },
    {
      "cell_type": "markdown",
      "source": [
        "# Selection of features without a target"
      ],
      "metadata": {
        "id": "xeRTN_x_oo9Z"
      }
    },
    {
      "cell_type": "code",
      "source": [
        "x = df.drop(columns=['Date','Close','Total Trade Quantity','Turnover (Lacs)'])"
      ],
      "metadata": {
        "id": "wa6Mc7SSonPn"
      },
      "execution_count": null,
      "outputs": []
    },
    {
      "cell_type": "markdown",
      "source": [
        "# Dividing into training set and testing set ( Usually 80% training and 20% testing)"
      ],
      "metadata": {
        "id": "Dqh6m6p8oSaa"
      }
    },
    {
      "cell_type": "code",
      "source": [
        "from sklearn.model_selection import train_test_split\n",
        "train_x, test_x, train_y, test_y = train_test_split(x, y, test_size=0.15)\n",
        "print(train_x.shape )\n",
        "print(test_x.shape)\n",
        "print(train_y.shape)\n",
        "print(test_y.shape)"
      ],
      "metadata": {
        "id": "5mP55sJ1oQ6o"
      },
      "execution_count": null,
      "outputs": []
    },
    {
      "cell_type": "markdown",
      "source": [
        "# Choosing the appropriate model"
      ],
      "metadata": {
        "id": "0E3wNUUzoMeQ"
      }
    },
    {
      "cell_type": "code",
      "source": [
        "from sklearn.linear_model import LinearRegression\n",
        "regression = LinearRegression()"
      ],
      "metadata": {
        "id": "dwiU3tFAoLhQ"
      },
      "execution_count": null,
      "outputs": []
    },
    {
      "cell_type": "markdown",
      "source": [
        "# Training"
      ],
      "metadata": {
        "id": "QOCwlGyVoGTg"
      }
    },
    {
      "cell_type": "code",
      "source": [
        "regression.fit(train_x, train_y)"
      ],
      "metadata": {
        "id": "FbiKT1jHoFj5"
      },
      "execution_count": null,
      "outputs": []
    },
    {
      "cell_type": "markdown",
      "source": [
        "\n",
        "# Metrique Evaluation"
      ],
      "metadata": {
        "id": "LzxfeKm4oCeS"
      }
    },
    {
      "cell_type": "code",
      "source": [
        "print(\"regression coefficient\",regression.coef_)\n",
        "regression_confidence = regression.score(test_x, test_y)\n",
        "print(\"linear regression confidence: \", regression_confidence)"
      ],
      "metadata": {
        "id": "UQJoggqAoAtw"
      },
      "execution_count": null,
      "outputs": []
    },
    {
      "cell_type": "markdown",
      "source": [
        "# Testing the model"
      ],
      "metadata": {
        "id": "eL2uabc-nzNI"
      }
    },
    {
      "cell_type": "code",
      "source": [
        "predicted=regression.predict(test_x)"
      ],
      "metadata": {
        "id": "IwvWKNWqn0w4"
      },
      "execution_count": null,
      "outputs": []
    },
    {
      "cell_type": "markdown",
      "source": [
        "# Result Visualization"
      ],
      "metadata": {
        "id": "JVOWw-2VntdR"
      }
    },
    {
      "cell_type": "code",
      "source": [
        "dfr=pd.DataFrame({'actual_close':test_y, 'Predicted_close':predicted})\n",
        "dfr.head(10)"
      ],
      "metadata": {
        "id": "w7CYtixenxTy"
      },
      "execution_count": null,
      "outputs": []
    }
  ]
}